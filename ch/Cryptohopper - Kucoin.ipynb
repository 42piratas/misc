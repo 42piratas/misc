{
 "cells": [
  {
   "cell_type": "markdown",
   "metadata": {},
   "source": [
    "# Cryptohopper Kucoin"
   ]
  },
  {
   "cell_type": "markdown",
   "metadata": {},
   "source": [
    "## ✳️ Required User Inputs"
   ]
  },
  {
   "cell_type": "code",
   "execution_count": 1,
   "metadata": {},
   "outputs": [],
   "source": [
    "# KUCOIN\n",
    "source_filename = \"cryptohopper_kucoin_2021_03_21.csv\"\n",
    "initial_investment = 8297"
   ]
  },
  {
   "cell_type": "markdown",
   "metadata": {},
   "source": [
    "## Setting up the stage!"
   ]
  },
  {
   "cell_type": "code",
   "execution_count": 2,
   "metadata": {},
   "outputs": [],
   "source": [
    "import pandas as pd\n",
    "import numpy as np\n",
    "import datetime as dt"
   ]
  },
  {
   "cell_type": "code",
   "execution_count": 3,
   "metadata": {},
   "outputs": [],
   "source": [
    "folder = \"cryptohopper/data/\"\n",
    "source = folder + source_filename\n",
    "data = pd.read_csv(source, index_col=\"Id\", header=0, parse_dates=[\"Date\"])"
   ]
  },
  {
   "cell_type": "markdown",
   "metadata": {},
   "source": [
    "## Data Cleanse"
   ]
  },
  {
   "cell_type": "code",
   "execution_count": 4,
   "metadata": {},
   "outputs": [],
   "source": [
    "# Convert \"Result\" feature from String to Float\n",
    "data[\"Result\"] = data[\"Result\"].str.rstrip('%').astype('float').div(100)\n",
    "\n",
    "# Clean up Trigger/Signals Names\n",
    "data[\"Trigger\"] = data[\"Trigger\"].str.lstrip(\"Signal From\")"
   ]
  },
  {
   "cell_type": "markdown",
   "metadata": {},
   "source": [
    "## Add Features"
   ]
  },
  {
   "cell_type": "code",
   "execution_count": 5,
   "metadata": {
    "scrolled": false
   },
   "outputs": [],
   "source": [
    "# Add \"BuyTrigger\" to \"sell\" rows\n",
    "data[\"BuyTrigger\"] = data[\"Buy order ID\"].apply(lambda x: data.loc[x,\"Trigger\"] \\\n",
    "                                                if x != 0 else np.NaN)\n",
    "\n",
    "# Remove AUTO SYNCs\n",
    "data = data[(data[\"Trigger\"] != \"Auto Synced\") & \n",
    "            (data[\"BuyTrigger\"] != \"Auto Synced\")]\n",
    "\n",
    "# Add \"BuyValue\" to \"sell\" rows\n",
    "data[\"BuyValue\"] = data[\"Buy order ID\"].apply(lambda x: data.loc[x,\"Order Value\"] \\\n",
    "                                                if x != 0 else np.NaN)\n",
    "\n",
    "# Add \"BuyFee\" to \"sell\" rows\n",
    "data[\"BuyFee\"] = data[\"Buy order ID\"].apply(lambda x: data.loc[x,\"Fee\"] \\\n",
    "                                                if x != 0 else np.NaN)\n",
    "\n",
    "# Add \"Result USDT\" to \"sell\" rows\n",
    "# WITH FEES\n",
    "data[\"Result USDT\"] = (data[\"BuyValue\"] * data[\"Result\"]) - (data[\"Fee\"] + data[\"BuyFee\"])\n",
    "# WITHOUT FEES\n",
    "# data[\"Result USDT\"] = (data[\"BuyValue\"] * data[\"Result\"])"
   ]
  },
  {
   "cell_type": "markdown",
   "metadata": {},
   "source": [
    "## Profit Total"
   ]
  },
  {
   "cell_type": "code",
   "execution_count": 6,
   "metadata": {},
   "outputs": [
    {
     "data": {
      "text/plain": [
       "151.18363808210427"
      ]
     },
     "execution_count": 6,
     "metadata": {},
     "output_type": "execute_result"
    }
   ],
   "source": [
    "df = data\n",
    "df[\"Result USDT\"].sum()"
   ]
  },
  {
   "cell_type": "markdown",
   "metadata": {},
   "source": [
    "## Profit Per Month"
   ]
  },
  {
   "cell_type": "code",
   "execution_count": 7,
   "metadata": {
    "scrolled": true
   },
   "outputs": [
    {
     "data": {
      "text/html": [
       "<div>\n",
       "<style scoped>\n",
       "    .dataframe tbody tr th:only-of-type {\n",
       "        vertical-align: middle;\n",
       "    }\n",
       "\n",
       "    .dataframe tbody tr th {\n",
       "        vertical-align: top;\n",
       "    }\n",
       "\n",
       "    .dataframe thead th {\n",
       "        text-align: right;\n",
       "    }\n",
       "</style>\n",
       "<table border=\"1\" class=\"dataframe\">\n",
       "  <thead>\n",
       "    <tr style=\"text-align: right;\">\n",
       "      <th></th>\n",
       "      <th>Result USDT</th>\n",
       "      <th>Investment</th>\n",
       "      <th>Return %</th>\n",
       "    </tr>\n",
       "    <tr>\n",
       "      <th>Date</th>\n",
       "      <th></th>\n",
       "      <th></th>\n",
       "      <th></th>\n",
       "    </tr>\n",
       "  </thead>\n",
       "  <tbody>\n",
       "    <tr>\n",
       "      <th>2021 March</th>\n",
       "      <td>151.183638</td>\n",
       "      <td>8297.0</td>\n",
       "      <td>1.822148</td>\n",
       "    </tr>\n",
       "  </tbody>\n",
       "</table>\n",
       "</div>"
      ],
      "text/plain": [
       "            Result USDT  Investment  Return %\n",
       "Date                                         \n",
       "2021 March   151.183638      8297.0  1.822148"
      ]
     },
     "execution_count": 7,
     "metadata": {},
     "output_type": "execute_result"
    }
   ],
   "source": [
    "df = data\n",
    "df = df.groupby([df[\"Date\"].dt.strftime('%Y %B')])[\"Result USDT\"].sum()\n",
    "df = pd.DataFrame(df)\n",
    "df[\"Investment\"] = np.NaN\n",
    "df[\"Investment\"][0] = initial_investment\n",
    "df[\"Return %\"] = df[\"Result USDT\"] * 100 / df[\"Investment\"]\n",
    "df"
   ]
  },
  {
   "cell_type": "markdown",
   "metadata": {},
   "source": [
    "## Profit Per Day"
   ]
  },
  {
   "cell_type": "code",
   "execution_count": 8,
   "metadata": {
    "scrolled": false
   },
   "outputs": [
    {
     "data": {
      "text/plain": [
       "Date\n",
       "2021-03-05     22.341295\n",
       "2021-03-06     35.932273\n",
       "2021-03-07     35.805051\n",
       "2021-03-08     40.138475\n",
       "2021-03-09     50.895131\n",
       "2021-03-10    259.537075\n",
       "2021-03-11    -78.009311\n",
       "2021-03-12    -96.000673\n",
       "2021-03-13    278.369928\n",
       "2021-03-14      9.311981\n",
       "2021-03-15   -208.228616\n",
       "2021-03-16    -89.129914\n",
       "2021-03-17     23.073713\n",
       "2021-03-18    -18.119676\n",
       "2021-03-19     90.879164\n",
       "2021-03-20     29.878225\n",
       "2021-03-21   -235.490482\n",
       "Name: Result USDT, dtype: float64"
      ]
     },
     "execution_count": 8,
     "metadata": {},
     "output_type": "execute_result"
    }
   ],
   "source": [
    "df = data\n",
    "df = df.groupby([df[\"Date\"].dt.date])[\"Result USDT\"].sum()\n",
    "df"
   ]
  },
  {
   "cell_type": "markdown",
   "metadata": {},
   "source": [
    "## Results and Number of Closed Trades per Signaler / Per Month"
   ]
  },
  {
   "cell_type": "code",
   "execution_count": 9,
   "metadata": {
    "scrolled": true
   },
   "outputs": [
    {
     "data": {
      "text/html": [
       "<div>\n",
       "<style scoped>\n",
       "    .dataframe tbody tr th:only-of-type {\n",
       "        vertical-align: middle;\n",
       "    }\n",
       "\n",
       "    .dataframe tbody tr th {\n",
       "        vertical-align: top;\n",
       "    }\n",
       "\n",
       "    .dataframe thead th {\n",
       "        text-align: right;\n",
       "    }\n",
       "</style>\n",
       "<table border=\"1\" class=\"dataframe\">\n",
       "  <thead>\n",
       "    <tr style=\"text-align: right;\">\n",
       "      <th></th>\n",
       "      <th></th>\n",
       "      <th>Result USDT</th>\n",
       "      <th>Closed</th>\n",
       "    </tr>\n",
       "    <tr>\n",
       "      <th>Date</th>\n",
       "      <th>BuyTrigger</th>\n",
       "      <th></th>\n",
       "      <th></th>\n",
       "    </tr>\n",
       "  </thead>\n",
       "  <tbody>\n",
       "    <tr>\n",
       "      <th rowspan=\"7\" valign=\"top\">2021 March</th>\n",
       "      <th>Altcoin Ninjas</th>\n",
       "      <td>-73.479762</td>\n",
       "      <td>87</td>\n",
       "    </tr>\n",
       "    <tr>\n",
       "      <th>Crypto Quality Signals</th>\n",
       "      <td>18.399743</td>\n",
       "      <td>20</td>\n",
       "    </tr>\n",
       "    <tr>\n",
       "      <th>Jackrabbit Premium</th>\n",
       "      <td>28.702680</td>\n",
       "      <td>15</td>\n",
       "    </tr>\n",
       "    <tr>\n",
       "      <th>Killer Whale Bank Robber Signals</th>\n",
       "      <td>88.716460</td>\n",
       "      <td>258</td>\n",
       "    </tr>\n",
       "    <tr>\n",
       "      <th>Oxford Crypto Signals</th>\n",
       "      <td>84.409330</td>\n",
       "      <td>190</td>\n",
       "    </tr>\n",
       "    <tr>\n",
       "      <th>Profit Scalping Signals   DEX</th>\n",
       "      <td>-216.281861</td>\n",
       "      <td>688</td>\n",
       "    </tr>\n",
       "    <tr>\n",
       "      <th>trategy Nakamoto   Signals FREE</th>\n",
       "      <td>220.717048</td>\n",
       "      <td>337</td>\n",
       "    </tr>\n",
       "  </tbody>\n",
       "</table>\n",
       "</div>"
      ],
      "text/plain": [
       "                                             Result USDT  Closed\n",
       "Date       BuyTrigger                                           \n",
       "2021 March Altcoin Ninjas                     -73.479762      87\n",
       "           Crypto Quality Signals              18.399743      20\n",
       "           Jackrabbit Premium                  28.702680      15\n",
       "           Killer Whale Bank Robber Signals    88.716460     258\n",
       "           Oxford Crypto Signals               84.409330     190\n",
       "           Profit Scalping Signals   DEX     -216.281861     688\n",
       "           trategy Nakamoto   Signals FREE    220.717048     337"
      ]
     },
     "execution_count": 9,
     "metadata": {},
     "output_type": "execute_result"
    }
   ],
   "source": [
    "df = data\n",
    "df = df.groupby([df[\"Date\"].dt.strftime('%Y %B'), \"BuyTrigger\"])\n",
    "df = df.agg({\"Result USDT\": \"sum\", \"Result\" : \"count\"})\n",
    "df.rename({\"Result\": \"Closed\"}, inplace=True, axis=1)\n",
    "df"
   ]
  },
  {
   "cell_type": "markdown",
   "metadata": {},
   "source": [
    "## Number of BUY Signals per Signaler"
   ]
  },
  {
   "cell_type": "code",
   "execution_count": 10,
   "metadata": {
    "scrolled": true
   },
   "outputs": [
    {
     "data": {
      "text/plain": [
       "Trigger\n",
       "Altcoin Ninjas                       99\n",
       "Crypto Quality Signals               22\n",
       "Jackrabbit Premium                   17\n",
       "Killer Whale Bank Robber Signals    271\n",
       "Oxford Crypto Signals               210\n",
       "Profit Scalping Signals   DEX       744\n",
       "trategy Nakamoto   Signals FREE     349\n",
       "Name: Trigger, dtype: int64"
      ]
     },
     "execution_count": 10,
     "metadata": {},
     "output_type": "execute_result"
    }
   ],
   "source": [
    "df = data\n",
    "df = df[df[\"Type\"] == \"buy\"]\n",
    "df.groupby(\"Trigger\")[\"Trigger\"].count()"
   ]
  },
  {
   "cell_type": "markdown",
   "metadata": {},
   "source": [
    "## Number of BUY Transactions per Date"
   ]
  },
  {
   "cell_type": "code",
   "execution_count": 11,
   "metadata": {
    "scrolled": false
   },
   "outputs": [
    {
     "data": {
      "text/plain": [
       "Date\n",
       "2021-03-05     37\n",
       "2021-03-06     42\n",
       "2021-03-07     47\n",
       "2021-03-08     35\n",
       "2021-03-09     69\n",
       "2021-03-10    240\n",
       "2021-03-11     71\n",
       "2021-03-12     95\n",
       "2021-03-13    185\n",
       "2021-03-14     56\n",
       "2021-03-15    141\n",
       "2021-03-16    194\n",
       "2021-03-17    133\n",
       "2021-03-18    105\n",
       "2021-03-19    103\n",
       "2021-03-20    117\n",
       "2021-03-21     42\n",
       "Name: Trigger, dtype: int64"
      ]
     },
     "execution_count": 11,
     "metadata": {},
     "output_type": "execute_result"
    }
   ],
   "source": [
    "df = data\n",
    "df = df[df[\"Type\"] == \"buy\"]\n",
    "df.groupby([df[\"Date\"].dt.date])[\"Trigger\"].count()"
   ]
  },
  {
   "cell_type": "markdown",
   "metadata": {},
   "source": [
    "## Number of BUY Transactions per Date / Signaler"
   ]
  },
  {
   "cell_type": "code",
   "execution_count": 12,
   "metadata": {
    "scrolled": false
   },
   "outputs": [
    {
     "data": {
      "text/plain": [
       "Date        Trigger                         \n",
       "2021-03-19  Killer Whale Bank Robber Signals    15\n",
       "            Oxford Crypto Signals               12\n",
       "            Profit Scalping Signals   DEX       55\n",
       "            trategy Nakamoto   Signals FREE      9\n",
       "2021-03-20  Altcoin Ninjas                       4\n",
       "            Jackrabbit Premium                   2\n",
       "            Killer Whale Bank Robber Signals    22\n",
       "            Oxford Crypto Signals               23\n",
       "            Profit Scalping Signals   DEX       57\n",
       "            trategy Nakamoto   Signals FREE      9\n",
       "2021-03-21  Altcoin Ninjas                       6\n",
       "            Killer Whale Bank Robber Signals     9\n",
       "            Oxford Crypto Signals                6\n",
       "            Profit Scalping Signals   DEX       17\n",
       "            trategy Nakamoto   Signals FREE      4\n",
       "Name: Trigger, dtype: int64"
      ]
     },
     "execution_count": 12,
     "metadata": {},
     "output_type": "execute_result"
    }
   ],
   "source": [
    "df = data\n",
    "df = df[df[\"Type\"] == \"buy\"]\n",
    "df.groupby([df[\"Date\"].dt.date, \"Trigger\"])[\"Trigger\"].count().tail(15)"
   ]
  },
  {
   "cell_type": "markdown",
   "metadata": {},
   "source": [
    "## Assertiviness Per Signaler"
   ]
  },
  {
   "cell_type": "code",
   "execution_count": 13,
   "metadata": {},
   "outputs": [
    {
     "data": {
      "text/plain": [
       "BuyTrigger                        Trigger                         \n",
       "Altcoin Ninjas                    Trailing Stop Loss                   84.090909\n",
       "                                  top Loss                             14.772727\n",
       "                                  Killer Whale Bank Robber Signals      1.136364\n",
       "Crypto Quality Signals            Trailing Stop Loss                   95.238095\n",
       "                                  top Loss                              4.761905\n",
       "Jackrabbit Premium                Trailing Stop Loss                  100.000000\n",
       "Killer Whale Bank Robber Signals  Trailing Stop Loss                   90.310078\n",
       "                                  top Loss                              8.527132\n",
       "                                  Killer Whale Bank Robber Signals      0.775194\n",
       "                                  Oxford Crypto Signals                 0.387597\n",
       "Oxford Crypto Signals             Trailing Stop Loss                   87.958115\n",
       "                                  top Loss                              8.376963\n",
       "                                  Killer Whale Bank Robber Signals      1.570681\n",
       "                                  Jackrabbit Premium                    1.047120\n",
       "                                  Oxford Crypto Signals                 0.523560\n",
       "                                  trategy Nakamoto   Signals FREE       0.523560\n",
       "Profit Scalping Signals   DEX     Trailing Stop Loss                   85.174419\n",
       "                                  top Loss                             11.627907\n",
       "                                  Killer Whale Bank Robber Signals      1.744186\n",
       "                                  Oxford Crypto Signals                 0.872093\n",
       "                                  Profit Scalping Signals   DEX         0.436047\n",
       "                                  trategy Nakamoto   Signals FREE       0.145349\n",
       "trategy Nakamoto   Signals FREE   Trailing Stop Loss                   92.284866\n",
       "                                  top Loss                              5.934718\n",
       "                                  Killer Whale Bank Robber Signals      0.890208\n",
       "                                  Profit Scalping Signals   DEX         0.593472\n",
       "                                  trategy Nakamoto   Signals FREE       0.296736\n",
       "Name: Trigger, dtype: float64"
      ]
     },
     "execution_count": 13,
     "metadata": {},
     "output_type": "execute_result"
    }
   ],
   "source": [
    "df = data\n",
    "df = df.groupby(\"BuyTrigger\")[\"Trigger\"].value_counts(normalize=True) * 100\n",
    "df"
   ]
  },
  {
   "cell_type": "markdown",
   "metadata": {},
   "source": [
    "## Negative Results from triggers other than Stop Loss"
   ]
  },
  {
   "cell_type": "code",
   "execution_count": 14,
   "metadata": {},
   "outputs": [
    {
     "data": {
      "text/plain": [
       "165"
      ]
     },
     "execution_count": 14,
     "metadata": {},
     "output_type": "execute_result"
    }
   ],
   "source": [
    "df = data\n",
    "mask = (df[\"Result\"] < 0) & (df[\"Trigger\"] != \"top Loss\")\n",
    "df = df[mask]\n",
    "len(df)"
   ]
  },
  {
   "cell_type": "code",
   "execution_count": 15,
   "metadata": {},
   "outputs": [
    {
     "data": {
      "text/plain": [
       "-323.74120704947836"
      ]
     },
     "execution_count": 15,
     "metadata": {},
     "output_type": "execute_result"
    }
   ],
   "source": [
    "df[\"Result USDT\"].sum()"
   ]
  },
  {
   "cell_type": "markdown",
   "metadata": {},
   "source": [
    "## Stop Losses"
   ]
  },
  {
   "cell_type": "code",
   "execution_count": 16,
   "metadata": {
    "scrolled": true
   },
   "outputs": [
    {
     "data": {
      "text/plain": [
       "152"
      ]
     },
     "execution_count": 16,
     "metadata": {},
     "output_type": "execute_result"
    }
   ],
   "source": [
    "df = data\n",
    "len(df[df[\"Trigger\"] == \"top Loss\"])"
   ]
  },
  {
   "cell_type": "markdown",
   "metadata": {},
   "source": [
    "## Save Clean Data"
   ]
  },
  {
   "cell_type": "code",
   "execution_count": 17,
   "metadata": {},
   "outputs": [],
   "source": [
    "destination_filename = source_filename.split(\".\")[0] + \"_clean.csv\"\n",
    "destination = folder + destination_filename\n",
    "data.to_csv(destination, index = True) "
   ]
  }
 ],
 "metadata": {
  "kernelspec": {
   "display_name": "Python 3",
   "language": "python",
   "name": "python3"
  },
  "language_info": {
   "codemirror_mode": {
    "name": "ipython",
    "version": 3
   },
   "file_extension": ".py",
   "mimetype": "text/x-python",
   "name": "python",
   "nbconvert_exporter": "python",
   "pygments_lexer": "ipython3",
   "version": "3.8.5"
  }
 },
 "nbformat": 4,
 "nbformat_minor": 4
}
