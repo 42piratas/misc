{
 "cells": [
  {
   "cell_type": "markdown",
   "metadata": {},
   "source": [
    "### Setting up the stage!"
   ]
  },
  {
   "cell_type": "code",
   "execution_count": null,
   "metadata": {},
   "outputs": [],
   "source": [
    "import os\n",
    "import pandas as pd\n",
    "import numpy as np\n",
    "import matplotlib.pyplot as plt\n",
    "import datetime as dt\n",
    "from matplotlib import pyplot as plt"
   ]
  },
  {
   "cell_type": "markdown",
   "metadata": {},
   "source": [
    "### User Input Required!"
   ]
  },
  {
   "cell_type": "code",
   "execution_count": null,
   "metadata": {},
   "outputs": [],
   "source": [
    "# Add the csv file name and location here!\n",
    "# Get the file under DCA Bot > My Deals > Deals History > Export\n",
    "source = \"data/3commas-dca-deals-2021-01-01-2021-01-08.csv\""
   ]
  },
  {
   "cell_type": "markdown",
   "metadata": {},
   "source": [
    "### Other variables"
   ]
  },
  {
   "cell_type": "code",
   "execution_count": null,
   "metadata": {},
   "outputs": [],
   "source": [
    "# Creates empty dataframe\n",
    "summary = pd.DataFrame()\n",
    "summary.index.name = \"Bot ID\"\n",
    "bots = pd.DataFrame()\n",
    "bots.index.name = \"Bot ID\" \n",
    "\n",
    "#TODO REVIEW ALL STATUSES\n",
    "trade_status_closed = [\"completed\", \"stop_loss_finished\"]\n",
    "trade_status_wins = [\"completed\"]\n",
    "trade_status_losses = [\"stop_loss_finished\"]\n",
    "trade_status_active = [\"bought\"] "
   ]
  },
  {
   "cell_type": "code",
   "execution_count": null,
   "metadata": {},
   "outputs": [],
   "source": [
    "# those_columns = [\"close_date\", \"bot\", \"final_profit\", \"loss\", \"win\", \"used_safety_orders\", \"pair\"]\n",
    "# bot_settings = [\"take_profit_condition\", \"base_order_volume\", \"safety_order_volume\"]\n",
    "\n",
    "result_columns = [\"win\", \"loss\", \"final_profit\"]\n",
    "those_columns = [\"close_date\", \"bot\", \"final_profit\", \"loss\", \"win\", \"used_safety_orders\", \n",
    "                 \"pair\", \"take_profit_condition\", \"base_order_volume\", \"safety_order_volume\"]"
   ]
  },
  {
   "cell_type": "markdown",
   "metadata": {},
   "source": [
    "### Grabbing the data"
   ]
  },
  {
   "cell_type": "code",
   "execution_count": null,
   "metadata": {},
   "outputs": [],
   "source": [
    "data = pd.read_csv(source,\n",
    "                   sep=\";\",\n",
    "                   index_col=\"deal_id\",\n",
    "                   header=0,\n",
    "                   parse_dates=['closed_at'])"
   ]
  },
  {
   "cell_type": "code",
   "execution_count": null,
   "metadata": {},
   "outputs": [],
   "source": [
    "# Sorting per close_date\n",
    "data = data.sort_values(by='close_date',ascending=True)"
   ]
  },
  {
   "cell_type": "markdown",
   "metadata": {},
   "source": [
    "### TO-DO!"
   ]
  },
  {
   "cell_type": "markdown",
   "metadata": {},
   "source": [
    "**IMPORTANT!** Must make a distinction between profit in base and quote! 🙀 "
   ]
  },
  {
   "cell_type": "markdown",
   "metadata": {},
   "source": [
    "### Raise an error if there's more than one base"
   ]
  },
  {
   "cell_type": "code",
   "execution_count": null,
   "metadata": {},
   "outputs": [],
   "source": [
    "# Check if the base asset is the same in all pairs \n",
    "base_pair = data[\"pair\"].str.split(\"_\").str[0].unique()\n",
    "if len(base_pair) == 1:\n",
    "    base_pair = base_pair[0]\n",
    "else:\n",
    "    raise(\"ERROR! 🙀 More than one base, not prepared for that!\")"
   ]
  },
  {
   "cell_type": "markdown",
   "metadata": {},
   "source": [
    "### Filtering the data"
   ]
  },
  {
   "cell_type": "code",
   "execution_count": null,
   "metadata": {},
   "outputs": [],
   "source": [
    "# Data range\n",
    "# Comment all to get the entire data\n",
    "\n",
    "# Slicing per date range\n",
    "# data = data[(data[\"close_date\"] >= \"2021-01-01\") &\n",
    "#            (data[\"close_date\"] <= \"2021-01-04\")]\n",
    "\n",
    "# Only after/before/equal a certain date\n",
    "data = data[(data[\"close_date\"] >= \"2021-01-01\")]"
   ]
  },
  {
   "cell_type": "code",
   "execution_count": null,
   "metadata": {},
   "outputs": [],
   "source": [
    "# ONLY this(these) bot(s)!\n",
    "# data = data[data[\"bot\"] == \"RSI7 < 30 3m\"]"
   ]
  },
  {
   "cell_type": "code",
   "execution_count": null,
   "metadata": {},
   "outputs": [],
   "source": [
    "# REMOVE these bots!\n",
    "# bots_remove = [\"Gordon-LEV-Conservative\", \"Gordon-LEV-Moderate\", \n",
    "#                \"Gordon-Conservative\", \"Gordon-Agressive\"]\n",
    "# data = data[~data[\"bot\"].isin(bots_remove)]"
   ]
  },
  {
   "cell_type": "markdown",
   "metadata": {},
   "source": [
    "### Replace NANs from \"final_profit\" feature withzeros"
   ]
  },
  {
   "cell_type": "code",
   "execution_count": null,
   "metadata": {},
   "outputs": [],
   "source": [
    "data['final_profit'] = data['final_profit'].fillna(0)"
   ]
  },
  {
   "cell_type": "markdown",
   "metadata": {},
   "source": [
    "### Add features"
   ]
  },
  {
   "cell_type": "code",
   "execution_count": null,
   "metadata": {},
   "outputs": [],
   "source": [
    "# Add \"win\" feature with the sum of positive profits of the day\n",
    "data[\"win\"] = np.where(data[\"final_profit\"] >0, data[\"final_profit\"], 0)\n",
    "# Add 'loss' column with the sum of negative profits of the day as a ABS number\n",
    "data[\"loss\"] = np.where(data[\"final_profit\"] <0, data[\"final_profit\"], 0)\n",
    "data[\"loss\"] = data[\"loss\"].abs()"
   ]
  },
  {
   "cell_type": "code",
   "execution_count": null,
   "metadata": {
    "scrolled": true
   },
   "outputs": [],
   "source": [
    "# Add \"cum_profit\" feature\n",
    "# data[\"cum_profit\"] = data[\"final_profit\"].cumsum()"
   ]
  },
  {
   "cell_type": "code",
   "execution_count": null,
   "metadata": {},
   "outputs": [],
   "source": [
    "# Closed Trade feature\n",
    "# data[\"closed\"] = 0\n",
    "data[\"closed\"] = data[\"status\"].apply(lambda x: 1 if x in (trade_status_closed) else 0)"
   ]
  },
  {
   "cell_type": "markdown",
   "metadata": {},
   "source": [
    "### Generate Report"
   ]
  },
  {
   "cell_type": "markdown",
   "metadata": {},
   "source": [
    "**IMPORTANT!** Whenever we have mean() with rows with zero value, math might be wrong!"
   ]
  },
  {
   "cell_type": "code",
   "execution_count": null,
   "metadata": {
    "scrolled": false
   },
   "outputs": [],
   "source": [
    "for bot_id in data[\"bot_id\"].unique():\n",
    "    trades_total = len(data[(data[\"bot_id\"] == bot_id)])\n",
    "    trades_closed = data[(data[\"bot_id\"] == bot_id)][\"closed\"].sum()\n",
    "    trades_win = len(data[(data[\"bot_id\"] == bot_id) & (data[\"status\"].isin(trade_status_wins))])*100 / trades_closed\n",
    "    trades_win = round(trades_win, 2)\n",
    "    trades_losses = len(data[(data[\"bot_id\"] == bot_id) & (data[\"status\"].isin(trade_status_losses))])*100 / trades_closed\n",
    "    trades_losses = round(trades_losses, 2)\n",
    "    trades_duration_avg = data[data[\"bot_id\"] == bot_id][\"duration\"].mean()\n",
    "    trades_duration_avg = pd.to_datetime(trades_duration_avg, unit=\"s\")\n",
    "    trades_so_avg = data[data[\"bot_id\"] == bot_id][\"used_safety_orders\"].mean()\n",
    "    trades_so_max = data[data[\"bot_id\"] == bot_id][\"max_safety_orders_count\"].iloc[0] \n",
    "    #TODO: NOT WORKING!\n",
    "    trades_so_max_avg = len(data[(data[\"bot\"] == bot_id) & \n",
    "                                 (data[\"used_safety_orders\"] == data[\"max_safety_orders_count\"].max())])\n",
    "    trades_so_max_avg = (trades_so_max_avg *100)/trades_closed\n",
    "    \n",
    "    # Add data to Summary dataframe\n",
    "    summary.loc[bot_id, \"Bot Name\"] = data[data[\"bot_id\"] == bot_id][\"bot\"].unique()\n",
    "    summary.loc[bot_id, \"AVG Profit (%)\"] = round(data[(data[\"bot_id\"] == bot_id)][\"profit_percentage_from_total_volume\"].mean(),2)\n",
    "    profit_column_name = f\"Profit ({base_pair})\"\n",
    "    summary.loc[bot_id, profit_column_name] = data[(data[\"bot_id\"] == bot_id) & (~data[\"status\"].isin(trade_status_active))][\"final_profit\"].sum()\n",
    "    summary.loc[bot_id, \"Win (%)\"] = trades_win\n",
    "    summary.loc[bot_id, \"Loss (%)\"] = trades_losses\n",
    "    summary.loc[bot_id, \"Closed Trades\"] = data[data[\"bot_id\"] == bot_id][\"closed\"].sum()\n",
    "    summary.loc[bot_id, \"AVG Trade Duration\"] = trades_duration_avg\n",
    "    summary.loc[bot_id, \"Max SO Set\"] = trades_so_max\n",
    "    #TODO: NOT WORKING!\n",
    "    summary.loc[bot_id, \"Max SO Used (%)\"] = trades_so_max_avg\n",
    "    summary.loc[bot_id, \"AVG SO/Trade\"] = trades_so_avg\n",
    "    # TODO: AVG DEALS PER DAY/TIME THE BOT HAS BEEN ACTIVE // REQUIRES INFO IN THE SOURCE DATA\n",
    "\n",
    "summary[\"Closed Trades\"] = summary[\"Closed Trades\"].astype(int) \n",
    "summary[\"AVG Trade Duration\"] = summary[\"AVG Trade Duration\"].dt.strftime(\"%H:%M:%S\")\n",
    "summary"
   ]
  },
  {
   "cell_type": "markdown",
   "metadata": {},
   "source": [
    "# \"Profit (USDT)\" above is wrong!!! ^^^"
   ]
  },
  {
   "cell_type": "code",
   "execution_count": null,
   "metadata": {},
   "outputs": [],
   "source": [
    "closed_trades = len(data[data[\"status\"].isin(trade_status_closed)])\n",
    "total_profit = data[\"final_profit\"].sum()\n",
    "print(f\"Total number of closed trades: {closed_trades}\")\n",
    "print(f\"Total profit: ${total_profit}\")"
   ]
  },
  {
   "cell_type": "markdown",
   "metadata": {},
   "source": [
    "### Paintbrush"
   ]
  },
  {
   "cell_type": "code",
   "execution_count": null,
   "metadata": {
    "scrolled": false
   },
   "outputs": [],
   "source": [
    "ax = data.groupby(\"close_date\")[\"final_profit\"].sum().cumsum().plot( \n",
    "                                                               marker='D',\n",
    "                                                               lw=2,\n",
    "                                                               color=\"purple\")\n",
    "\n",
    "data.groupby(\"close_date\")[[\"win\", \"loss\", \"final_profit\"]].sum().plot(ax=ax,\n",
    "                                                       kind=\"bar\",\n",
    "                                                       figsize=(14,6),\n",
    "                                                       grid=True,\n",
    "                                                       color=[\"blue\", \"red\", \"gold\"],\n",
    "                                                       rot=45)\n",
    "\n",
    "ax.legend([\"Accum. Profit\",  \"Earnings\", \"Losses\", \"Day Profit\"])\n",
    "ax.set_xlabel(\"\")\n",
    "ax.set_ylabel(\"$$$\")\n",
    "plt.title(\"3Commas DCA Bots\")"
   ]
  },
  {
   "cell_type": "markdown",
   "metadata": {},
   "source": [
    "# Bots"
   ]
  },
  {
   "cell_type": "code",
   "execution_count": null,
   "metadata": {
    "scrolled": false
   },
   "outputs": [],
   "source": [
    "ax = data.groupby(\"bot\")[result_columns].sum().plot(kind=\"bar\",\n",
    "                                                    figsize=(14,6),\n",
    "                                                    grid=True,\n",
    "                                                    color=[\"gold\", \"red\", \"blue\"],\n",
    "                                                    rot=90)\n",
    "\n",
    "ax.legend([\"Earnings\", \"Losses\", \"Profit\"])\n",
    "ax.set_xlabel(\"\")\n",
    "ax.set_ylabel(\"$$$\")\n",
    "plt.title(\"3Commas DCA Bots\")"
   ]
  },
  {
   "cell_type": "markdown",
   "metadata": {},
   "source": [
    "### Bots Settings (Current!)"
   ]
  },
  {
   "cell_type": "code",
   "execution_count": null,
   "metadata": {
    "scrolled": false
   },
   "outputs": [],
   "source": [
    "for bot_id in data[\"bot_id\"].unique():\n",
    "    bots.loc[bot_id, \"bot\"] = data[(data[\"bot_id\"] == bot_id)][\"bot\"].unique()\n",
    "    bots.loc[bot_id, \"TP\"] = data[(data[\"bot_id\"] == bot_id)][\"take_profit_condition\"].iloc[-1]\n",
    "    bots.loc[bot_id, \"SO Count\"] = data[(data[\"bot_id\"] == bot_id)][\"max_safety_orders_count\"].iloc[-1]\n",
    "    bots.loc[bot_id, \"SO%\"] = data[(data[\"bot_id\"] == bot_id)][\"safety_order_step_percentage\"].iloc[-1]\n",
    "    bots.loc[bot_id, \"SO Vol\"] = data[(data[\"bot_id\"] == bot_id)][\"safety_order_volume\"].iloc[-1]\n",
    "    bots.loc[bot_id, \"Closed\"] = data[(data[\"bot_id\"] == bot_id)][\"closed\"].sum()\n",
    "\n",
    "bots"
   ]
  },
  {
   "cell_type": "markdown",
   "metadata": {},
   "source": [
    "### Profit per day"
   ]
  },
  {
   "cell_type": "code",
   "execution_count": null,
   "metadata": {},
   "outputs": [],
   "source": [
    "data.groupby(\"close_date\")[\"closed\", \"win\", \"loss\", \"final_profit\"].sum()"
   ]
  },
  {
   "cell_type": "markdown",
   "metadata": {},
   "source": [
    "### Bots per day"
   ]
  },
  {
   "cell_type": "code",
   "execution_count": null,
   "metadata": {
    "scrolled": false
   },
   "outputs": [],
   "source": [
    "data.groupby([\"close_date\", \"bot\"])[\"closed\", \"win\", \"loss\", \"final_profit\"].sum()"
   ]
  },
  {
   "cell_type": "markdown",
   "metadata": {},
   "source": [
    "### Specific date "
   ]
  },
  {
   "cell_type": "code",
   "execution_count": null,
   "metadata": {},
   "outputs": [],
   "source": [
    "data[data[\"close_date\"] == \"2021-01-08\"].groupby(\"bot\")[\"closed\", \"win\", \"loss\", \"final_profit\"].sum()"
   ]
  },
  {
   "cell_type": "markdown",
   "metadata": {},
   "source": [
    "# Pairs"
   ]
  },
  {
   "cell_type": "code",
   "execution_count": null,
   "metadata": {
    "scrolled": false
   },
   "outputs": [],
   "source": [
    "ax = data.groupby(\"pair\")[\"final_profit\"].sum().plot(kind=\"bar\", \n",
    "                                                     figsize=(18,6),\n",
    "                                                     grid=True)\n",
    "ax.set_xlabel(\"\")\n",
    "ax.set_ylabel(\"$$$\")"
   ]
  },
  {
   "cell_type": "code",
   "execution_count": null,
   "metadata": {},
   "outputs": [],
   "source": []
  }
 ],
 "metadata": {
  "kernelspec": {
   "display_name": "Python 3",
   "language": "python",
   "name": "python3"
  },
  "language_info": {
   "codemirror_mode": {
    "name": "ipython",
    "version": 3
   },
   "file_extension": ".py",
   "mimetype": "text/x-python",
   "name": "python",
   "nbconvert_exporter": "python",
   "pygments_lexer": "ipython3",
   "version": "3.8.5"
  }
 },
 "nbformat": 4,
 "nbformat_minor": 4
}
