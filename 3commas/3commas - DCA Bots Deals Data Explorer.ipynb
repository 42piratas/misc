{
 "cells": [
  {
   "cell_type": "markdown",
   "metadata": {},
   "source": [
    "### Setting up the stage!"
   ]
  },
  {
   "cell_type": "code",
   "execution_count": 1,
   "metadata": {},
   "outputs": [],
   "source": [
    "import os\n",
    "import pandas as pd\n",
    "import numpy as np\n",
    "import matplotlib.pyplot as plt\n",
    "import datetime as dt\n",
    "from matplotlib import pyplot as plt"
   ]
  },
  {
   "cell_type": "markdown",
   "metadata": {},
   "source": [
    "### User Input Required!"
   ]
  },
  {
   "cell_type": "code",
   "execution_count": 2,
   "metadata": {},
   "outputs": [],
   "source": [
    "# Add the csv file name and location here!\n",
    "# Get the file under DCA Bot > My Deals > Deals History > Export\n",
    "source = \"data/3commas-dca-deals-2021-01-01-2021-01-08.csv\""
   ]
  },
  {
   "cell_type": "markdown",
   "metadata": {},
   "source": [
    "### Other variables"
   ]
  },
  {
   "cell_type": "code",
   "execution_count": 3,
   "metadata": {},
   "outputs": [],
   "source": [
    "# Creates empty dataframe\n",
    "summary = pd.DataFrame()\n",
    "summary.index.name = \"Bot ID\"\n",
    "bots = pd.DataFrame()\n",
    "bots.index.name = \"Bot ID\" \n",
    "\n",
    "#TODO REVIEW ALL STATUSES\n",
    "trade_status_closed = [\"completed\", \"stop_loss_finished\"]\n",
    "trade_status_wins = [\"completed\"]\n",
    "trade_status_losses = [\"stop_loss_finished\"]\n",
    "trade_status_active = [\"bought\"] "
   ]
  },
  {
   "cell_type": "code",
   "execution_count": 4,
   "metadata": {},
   "outputs": [],
   "source": [
    "# those_columns = [\"close_date\", \"bot\", \"final_profit\", \"loss\", \"win\", \"used_safety_orders\", \"pair\"]\n",
    "# bot_settings = [\"take_profit_condition\", \"base_order_volume\", \"safety_order_volume\"]\n",
    "\n",
    "result_columns = [\"win\", \"loss\", \"final_profit\"]\n",
    "those_columns = [\"close_date\", \"bot\", \"final_profit\", \"loss\", \"win\", \"used_safety_orders\", \n",
    "                 \"pair\", \"take_profit_condition\", \"base_order_volume\", \"safety_order_volume\"]"
   ]
  },
  {
   "cell_type": "markdown",
   "metadata": {},
   "source": [
    "### Grabbing the data"
   ]
  },
  {
   "cell_type": "code",
   "execution_count": 5,
   "metadata": {},
   "outputs": [],
   "source": [
    "data = pd.read_csv(source,\n",
    "                   sep=\";\",\n",
    "                   index_col=\"deal_id\",\n",
    "                   header=0,\n",
    "                   parse_dates=['closed_at'])"
   ]
  },
  {
   "cell_type": "code",
   "execution_count": 6,
   "metadata": {},
   "outputs": [],
   "source": [
    "# Sorting per close_date\n",
    "data = data.sort_values(by='close_date',ascending=True)"
   ]
  },
  {
   "cell_type": "markdown",
   "metadata": {},
   "source": [
    "### TO-DO!"
   ]
  },
  {
   "cell_type": "markdown",
   "metadata": {},
   "source": [
    "**IMPORTANT!** Must make a distinction between profit in base and quote! 🙀 "
   ]
  },
  {
   "cell_type": "markdown",
   "metadata": {},
   "source": [
    "### Raise an error if there's more than one base"
   ]
  },
  {
   "cell_type": "code",
   "execution_count": 7,
   "metadata": {},
   "outputs": [],
   "source": [
    "# Check if the base asset is the same in all pairs \n",
    "base_pair = data[\"pair\"].str.split(\"_\").str[0].unique()\n",
    "if len(base_pair) == 1:\n",
    "    base_pair = base_pair[0]\n",
    "else:\n",
    "    raise(\"ERROR! 🙀 More than one base, not prepared for that!\")"
   ]
  },
  {
   "cell_type": "markdown",
   "metadata": {},
   "source": [
    "### Filtering the data"
   ]
  },
  {
   "cell_type": "code",
   "execution_count": 8,
   "metadata": {},
   "outputs": [],
   "source": [
    "# Data range\n",
    "# Comment all to get the entire data\n",
    "\n",
    "# Slicing per date range\n",
    "# data = data[(data[\"close_date\"] >= \"2021-01-01\") &\n",
    "#            (data[\"close_date\"] <= \"2021-01-04\")]\n",
    "\n",
    "# Only after/before/equal a certain date\n",
    "data = data[(data[\"close_date\"] >= \"2021-01-01\")]"
   ]
  },
  {
   "cell_type": "code",
   "execution_count": 9,
   "metadata": {},
   "outputs": [],
   "source": [
    "# ONLY this(these) bot(s)!\n",
    "# data = data[data[\"bot\"] == \"RSI7 < 30 3m\"]"
   ]
  },
  {
   "cell_type": "code",
   "execution_count": 10,
   "metadata": {},
   "outputs": [],
   "source": [
    "# REMOVE these bots!\n",
    "# bots_remove = [\"Gordon-LEV-Conservative\", \"Gordon-LEV-Moderate\", \n",
    "#                \"Gordon-Conservative\", \"Gordon-Agressive\"]\n",
    "# data = data[~data[\"bot\"].isin(bots_remove)]"
   ]
  },
  {
   "cell_type": "markdown",
   "metadata": {},
   "source": [
    "### Replace NANs from \"final_profit\" feature withzeros"
   ]
  },
  {
   "cell_type": "code",
   "execution_count": 11,
   "metadata": {},
   "outputs": [],
   "source": [
    "data['final_profit'] = data['final_profit'].fillna(0)"
   ]
  },
  {
   "cell_type": "markdown",
   "metadata": {},
   "source": [
    "### Add features"
   ]
  },
  {
   "cell_type": "code",
   "execution_count": 12,
   "metadata": {},
   "outputs": [],
   "source": [
    "# Add \"win\" feature with the sum of positive profits of the day\n",
    "data[\"win\"] = np.where(data[\"final_profit\"] >0, data[\"final_profit\"], 0)\n",
    "# Add 'loss' column with the sum of negative profits of the day as a ABS number\n",
    "data[\"loss\"] = np.where(data[\"final_profit\"] <0, data[\"final_profit\"], 0)\n",
    "data[\"loss\"] = data[\"loss\"].abs()"
   ]
  },
  {
   "cell_type": "code",
   "execution_count": 13,
   "metadata": {
    "scrolled": true
   },
   "outputs": [],
   "source": [
    "# Add \"cum_profit\" feature\n",
    "# data[\"cum_profit\"] = data[\"final_profit\"].cumsum()"
   ]
  },
  {
   "cell_type": "code",
   "execution_count": 14,
   "metadata": {},
   "outputs": [],
   "source": [
    "# Closed Trade feature\n",
    "# data[\"closed\"] = 0\n",
    "data[\"closed\"] = data[\"status\"].apply(lambda x: 1 if x in (trade_status_closed) else 0)"
   ]
  },
  {
   "cell_type": "markdown",
   "metadata": {},
   "source": [
    "### Generate Report"
   ]
  },
  {
   "cell_type": "markdown",
   "metadata": {},
   "source": [
    "**IMPORTANT!** Whenever we have mean() with rows with zero value, math might be wrong!"
   ]
  },
  {
   "cell_type": "code",
   "execution_count": 15,
   "metadata": {
    "scrolled": false
   },
   "outputs": [
    {
     "name": "stderr",
     "output_type": "stream",
     "text": [
      "<ipython-input-15-8171a66c24e6>:4: RuntimeWarning: invalid value encountered in long_scalars\n",
      "  trades_win = len(data[(data[\"bot_id\"] == bot_id) & (data[\"status\"].isin(trade_status_wins))])*100 / trades_closed\n",
      "<ipython-input-15-8171a66c24e6>:6: RuntimeWarning: invalid value encountered in long_scalars\n",
      "  trades_losses = len(data[(data[\"bot_id\"] == bot_id) & (data[\"status\"].isin(trade_status_losses))])*100 / trades_closed\n",
      "<ipython-input-15-8171a66c24e6>:15: RuntimeWarning: invalid value encountered in long_scalars\n",
      "  trades_so_max_avg = (trades_so_max_avg *100)/trades_closed\n"
     ]
    },
    {
     "data": {
      "text/html": [
       "<div>\n",
       "<style scoped>\n",
       "    .dataframe tbody tr th:only-of-type {\n",
       "        vertical-align: middle;\n",
       "    }\n",
       "\n",
       "    .dataframe tbody tr th {\n",
       "        vertical-align: top;\n",
       "    }\n",
       "\n",
       "    .dataframe thead th {\n",
       "        text-align: right;\n",
       "    }\n",
       "</style>\n",
       "<table border=\"1\" class=\"dataframe\">\n",
       "  <thead>\n",
       "    <tr style=\"text-align: right;\">\n",
       "      <th></th>\n",
       "      <th>Bot Name</th>\n",
       "      <th>AVG Profit (%)</th>\n",
       "      <th>Profit (USDT)</th>\n",
       "      <th>Win (%)</th>\n",
       "      <th>Loss (%)</th>\n",
       "      <th>Closed Trades</th>\n",
       "      <th>AVG Trade Duration</th>\n",
       "      <th>Max SO Set</th>\n",
       "      <th>Max SO Used (%)</th>\n",
       "      <th>AVG SO/Trade</th>\n",
       "    </tr>\n",
       "    <tr>\n",
       "      <th>Bot ID</th>\n",
       "      <th></th>\n",
       "      <th></th>\n",
       "      <th></th>\n",
       "      <th></th>\n",
       "      <th></th>\n",
       "      <th></th>\n",
       "      <th></th>\n",
       "      <th></th>\n",
       "      <th></th>\n",
       "      <th></th>\n",
       "    </tr>\n",
       "  </thead>\n",
       "  <tbody>\n",
       "    <tr>\n",
       "      <th>2145929</th>\n",
       "      <td>Gordon-Agressive</td>\n",
       "      <td>0.77</td>\n",
       "      <td>1.523833</td>\n",
       "      <td>100.00</td>\n",
       "      <td>0.00</td>\n",
       "      <td>1</td>\n",
       "      <td>21:35:02</td>\n",
       "      <td>3.0</td>\n",
       "      <td>0.0</td>\n",
       "      <td>3.000000</td>\n",
       "    </tr>\n",
       "    <tr>\n",
       "      <th>2145925</th>\n",
       "      <td>Gordon-Moderate</td>\n",
       "      <td>2.29</td>\n",
       "      <td>368.979563</td>\n",
       "      <td>98.00</td>\n",
       "      <td>2.00</td>\n",
       "      <td>50</td>\n",
       "      <td>03:25:57</td>\n",
       "      <td>3.0</td>\n",
       "      <td>0.0</td>\n",
       "      <td>0.840000</td>\n",
       "    </tr>\n",
       "    <tr>\n",
       "      <th>2281779</th>\n",
       "      <td>TBT Signals</td>\n",
       "      <td>1.38</td>\n",
       "      <td>116.391950</td>\n",
       "      <td>100.00</td>\n",
       "      <td>0.00</td>\n",
       "      <td>20</td>\n",
       "      <td>03:06:16</td>\n",
       "      <td>2.0</td>\n",
       "      <td>0.0</td>\n",
       "      <td>0.708333</td>\n",
       "    </tr>\n",
       "    <tr>\n",
       "      <th>2292725</th>\n",
       "      <td>RSI7 &lt; 30 3m</td>\n",
       "      <td>0.70</td>\n",
       "      <td>13.445974</td>\n",
       "      <td>87.63</td>\n",
       "      <td>12.37</td>\n",
       "      <td>97</td>\n",
       "      <td>01:16:52</td>\n",
       "      <td>2.0</td>\n",
       "      <td>0.0</td>\n",
       "      <td>0.704082</td>\n",
       "    </tr>\n",
       "    <tr>\n",
       "      <th>2297369</th>\n",
       "      <td>Gordon-Moderate-TP1.5-SL8</td>\n",
       "      <td>1.71</td>\n",
       "      <td>22.648991</td>\n",
       "      <td>100.00</td>\n",
       "      <td>0.00</td>\n",
       "      <td>7</td>\n",
       "      <td>01:07:59</td>\n",
       "      <td>3.0</td>\n",
       "      <td>0.0</td>\n",
       "      <td>0.142857</td>\n",
       "    </tr>\n",
       "    <tr>\n",
       "      <th>2314379</th>\n",
       "      <td>RSI7 &lt; 30 3m BTC ETH BNB ACCUM</td>\n",
       "      <td>2.95</td>\n",
       "      <td>57.997438</td>\n",
       "      <td>100.00</td>\n",
       "      <td>0.00</td>\n",
       "      <td>12</td>\n",
       "      <td>04:05:25</td>\n",
       "      <td>1.0</td>\n",
       "      <td>0.0</td>\n",
       "      <td>0.583333</td>\n",
       "    </tr>\n",
       "    <tr>\n",
       "      <th>2313262</th>\n",
       "      <td>RSI7 &lt; 30 3m OTHER COINS</td>\n",
       "      <td>0.06</td>\n",
       "      <td>-30.023255</td>\n",
       "      <td>69.23</td>\n",
       "      <td>30.77</td>\n",
       "      <td>26</td>\n",
       "      <td>02:59:17</td>\n",
       "      <td>1.0</td>\n",
       "      <td>0.0</td>\n",
       "      <td>0.444444</td>\n",
       "    </tr>\n",
       "    <tr>\n",
       "      <th>2314271</th>\n",
       "      <td>Gordon-Moderate BTC ETH BNB ACCUM</td>\n",
       "      <td>0.00</td>\n",
       "      <td>0.000000</td>\n",
       "      <td>NaN</td>\n",
       "      <td>NaN</td>\n",
       "      <td>0</td>\n",
       "      <td>00:00:01</td>\n",
       "      <td>3.0</td>\n",
       "      <td>NaN</td>\n",
       "      <td>0.000000</td>\n",
       "    </tr>\n",
       "  </tbody>\n",
       "</table>\n",
       "</div>"
      ],
      "text/plain": [
       "                                  Bot Name  AVG Profit (%)  Profit (USDT)  \\\n",
       "Bot ID                                                                      \n",
       "2145929                   Gordon-Agressive            0.77       1.523833   \n",
       "2145925                    Gordon-Moderate            2.29     368.979563   \n",
       "2281779                        TBT Signals            1.38     116.391950   \n",
       "2292725                       RSI7 < 30 3m            0.70      13.445974   \n",
       "2297369          Gordon-Moderate-TP1.5-SL8            1.71      22.648991   \n",
       "2314379     RSI7 < 30 3m BTC ETH BNB ACCUM            2.95      57.997438   \n",
       "2313262           RSI7 < 30 3m OTHER COINS            0.06     -30.023255   \n",
       "2314271  Gordon-Moderate BTC ETH BNB ACCUM            0.00       0.000000   \n",
       "\n",
       "         Win (%)  Loss (%)  Closed Trades AVG Trade Duration  Max SO Set  \\\n",
       "Bot ID                                                                     \n",
       "2145929   100.00      0.00              1           21:35:02         3.0   \n",
       "2145925    98.00      2.00             50           03:25:57         3.0   \n",
       "2281779   100.00      0.00             20           03:06:16         2.0   \n",
       "2292725    87.63     12.37             97           01:16:52         2.0   \n",
       "2297369   100.00      0.00              7           01:07:59         3.0   \n",
       "2314379   100.00      0.00             12           04:05:25         1.0   \n",
       "2313262    69.23     30.77             26           02:59:17         1.0   \n",
       "2314271      NaN       NaN              0           00:00:01         3.0   \n",
       "\n",
       "         Max SO Used (%)  AVG SO/Trade  \n",
       "Bot ID                                  \n",
       "2145929              0.0      3.000000  \n",
       "2145925              0.0      0.840000  \n",
       "2281779              0.0      0.708333  \n",
       "2292725              0.0      0.704082  \n",
       "2297369              0.0      0.142857  \n",
       "2314379              0.0      0.583333  \n",
       "2313262              0.0      0.444444  \n",
       "2314271              NaN      0.000000  "
      ]
     },
     "execution_count": 15,
     "metadata": {},
     "output_type": "execute_result"
    }
   ],
   "source": [
    "for bot_id in data[\"bot_id\"].unique():\n",
    "    trades_total = len(data[(data[\"bot_id\"] == bot_id)])\n",
    "    trades_closed = data[(data[\"bot_id\"] == bot_id)][\"closed\"].sum()\n",
    "    trades_win = len(data[(data[\"bot_id\"] == bot_id) & (data[\"status\"].isin(trade_status_wins))])*100 / trades_closed\n",
    "    trades_win = round(trades_win, 2)\n",
    "    trades_losses = len(data[(data[\"bot_id\"] == bot_id) & (data[\"status\"].isin(trade_status_losses))])*100 / trades_closed\n",
    "    trades_losses = round(trades_losses, 2)\n",
    "    trades_duration_avg = data[data[\"bot_id\"] == bot_id][\"duration\"].mean()\n",
    "    trades_duration_avg = pd.to_datetime(trades_duration_avg, unit=\"s\")\n",
    "    trades_so_avg = data[data[\"bot_id\"] == bot_id][\"used_safety_orders\"].mean()\n",
    "    trades_so_max = data[data[\"bot_id\"] == bot_id][\"max_safety_orders_count\"].iloc[0] \n",
    "    #TODO: NOT WORKING!\n",
    "    trades_so_max_avg = len(data[(data[\"bot\"] == bot_id) & \n",
    "                                 (data[\"used_safety_orders\"] == data[\"max_safety_orders_count\"].max())])\n",
    "    trades_so_max_avg = (trades_so_max_avg *100)/trades_closed\n",
    "    \n",
    "    # Add data to Summary dataframe\n",
    "    summary.loc[bot_id, \"Bot Name\"] = data[data[\"bot_id\"] == bot_id][\"bot\"].unique()\n",
    "    summary.loc[bot_id, \"AVG Profit (%)\"] = round(data[(data[\"bot_id\"] == bot_id)][\"profit_percentage_from_total_volume\"].mean(),2)\n",
    "    profit_column_name = f\"Profit ({base_pair})\"\n",
    "    summary.loc[bot_id, profit_column_name] = data[(data[\"bot_id\"] == bot_id) & (~data[\"status\"].isin(trade_status_active))][\"final_profit\"].sum()\n",
    "    summary.loc[bot_id, \"Win (%)\"] = trades_win\n",
    "    summary.loc[bot_id, \"Loss (%)\"] = trades_losses\n",
    "    summary.loc[bot_id, \"Closed Trades\"] = data[data[\"bot_id\"] == bot_id][\"closed\"].sum()\n",
    "    summary.loc[bot_id, \"AVG Trade Duration\"] = trades_duration_avg\n",
    "    summary.loc[bot_id, \"Max SO Set\"] = trades_so_max\n",
    "    #TODO: NOT WORKING!\n",
    "    summary.loc[bot_id, \"Max SO Used (%)\"] = trades_so_max_avg\n",
    "    summary.loc[bot_id, \"AVG SO/Trade\"] = trades_so_avg\n",
    "    # TODO: AVG DEALS PER DAY/TIME THE BOT HAS BEEN ACTIVE // REQUIRES INFO IN THE SOURCE DATA\n",
    "\n",
    "summary[\"Closed Trades\"] = summary[\"Closed Trades\"].astype(int) \n",
    "summary[\"AVG Trade Duration\"] = summary[\"AVG Trade Duration\"].dt.strftime(\"%H:%M:%S\")\n",
    "summary"
   ]
  },
  {
   "cell_type": "markdown",
   "metadata": {},
   "source": [
    "# \"Profit (USDT)\" above is wrong!!! ^^^"
   ]
  },
  {
   "cell_type": "code",
   "execution_count": 16,
   "metadata": {},
   "outputs": [
    {
     "name": "stdout",
     "output_type": "stream",
     "text": [
      "Total number of closed trades: 213\n",
      "Total profit: $550.9644928100001\n"
     ]
    }
   ],
   "source": [
    "closed_trades = len(data[data[\"status\"].isin(trade_status_closed)])\n",
    "total_profit = data[\"final_profit\"].sum()\n",
    "print(f\"Total number of closed trades: {closed_trades}\")\n",
    "print(f\"Total profit: ${total_profit}\")"
   ]
  },
  {
   "cell_type": "markdown",
   "metadata": {},
   "source": [
    "### Paintbrush"
   ]
  },
  {
   "cell_type": "code",
   "execution_count": 17,
   "metadata": {
    "scrolled": false
   },
   "outputs": [
    {
     "name": "stderr",
     "output_type": "stream",
     "text": [
      "/Library/Frameworks/Python.framework/Versions/3.8/lib/python3.8/site-packages/pandas/plotting/_matplotlib/core.py:1192: UserWarning: FixedFormatter should only be used together with FixedLocator\n",
      "  ax.set_xticklabels(xticklabels)\n"
     ]
    },
    {
     "data": {
      "text/plain": [
       "Text(0.5, 1.0, '3Commas DCA Bots')"
      ]
     },
     "execution_count": 17,
     "metadata": {},
     "output_type": "execute_result"
    },
    {
     "data": {
      "image/png": "[encoded data removed]",
      "text/plain": [
       "<Figure size 1008x432 with 1 Axes>"
      ]
     },
     "metadata": {
      "needs_background": "light"
     },
     "output_type": "display_data"
    }
   ],
   "source": [
    "ax = data.groupby(\"close_date\")[\"final_profit\"].sum().cumsum().plot( \n",
    "                                                               marker='D',\n",
    "                                                               lw=2,\n",
    "                                                               color=\"purple\")\n",
    "\n",
    "data.groupby(\"close_date\")[[\"win\", \"loss\", \"final_profit\"]].sum().plot(ax=ax,\n",
    "                                                       kind=\"bar\",\n",
    "                                                       figsize=(14,6),\n",
    "                                                       grid=True,\n",
    "                                                       color=[\"blue\", \"red\", \"gold\"],\n",
    "                                                       rot=45)\n",
    "\n",
    "ax.legend([\"Accum. Profit\",  \"Earnings\", \"Losses\", \"Day Profit\"])\n",
    "ax.set_xlabel(\"\")\n",
    "ax.set_ylabel(\"$$$\")\n",
    "plt.title(\"3Commas DCA Bots\")"
   ]
  },
  {
   "cell_type": "markdown",
   "metadata": {},
   "source": [
    "# Bots"
   ]
  },
  {
   "cell_type": "code",
   "execution_count": 18,
   "metadata": {
    "scrolled": false
   },
   "outputs": [
    {
     "data": {
      "text/plain": [
       "Text(0.5, 1.0, '3Commas DCA Bots')"
      ]
     },
     "execution_count": 18,
     "metadata": {},
     "output_type": "execute_result"
    },
    {
     "data": {
      "image/png": "[encoded data removed]",
      "text/plain": [
       "<Figure size 1008x432 with 1 Axes>"
      ]
     },
     "metadata": {
      "needs_background": "light"
     },
     "output_type": "display_data"
    }
   ],
   "source": [
    "ax = data.groupby(\"bot\")[result_columns].sum().plot(kind=\"bar\",\n",
    "                                                    figsize=(14,6),\n",
    "                                                    grid=True,\n",
    "                                                    color=[\"gold\", \"red\", \"blue\"],\n",
    "                                                    rot=90)\n",
    "\n",
    "ax.legend([\"Earnings\", \"Losses\", \"Profit\"])\n",
    "ax.set_xlabel(\"\")\n",
    "ax.set_ylabel(\"$$$\")\n",
    "plt.title(\"3Commas DCA Bots\")"
   ]
  },
  {
   "cell_type": "markdown",
   "metadata": {},
   "source": [
    "### Bots Settings (Current!)"
   ]
  },
  {
   "cell_type": "code",
   "execution_count": 19,
   "metadata": {
    "scrolled": false
   },
   "outputs": [
    {
     "data": {
      "text/html": [
       "<div>\n",
       "<style scoped>\n",
       "    .dataframe tbody tr th:only-of-type {\n",
       "        vertical-align: middle;\n",
       "    }\n",
       "\n",
       "    .dataframe tbody tr th {\n",
       "        vertical-align: top;\n",
       "    }\n",
       "\n",
       "    .dataframe thead th {\n",
       "        text-align: right;\n",
       "    }\n",
       "</style>\n",
       "<table border=\"1\" class=\"dataframe\">\n",
       "  <thead>\n",
       "    <tr style=\"text-align: right;\">\n",
       "      <th></th>\n",
       "      <th>bot</th>\n",
       "      <th>TP</th>\n",
       "      <th>SO Count</th>\n",
       "      <th>SO%</th>\n",
       "      <th>SO Vol</th>\n",
       "      <th>Closed</th>\n",
       "    </tr>\n",
       "    <tr>\n",
       "      <th>Bot ID</th>\n",
       "      <th></th>\n",
       "      <th></th>\n",
       "      <th></th>\n",
       "      <th></th>\n",
       "      <th></th>\n",
       "      <th></th>\n",
       "    </tr>\n",
       "  </thead>\n",
       "  <tbody>\n",
       "    <tr>\n",
       "      <th>2145929</th>\n",
       "      <td>Gordon-Agressive</td>\n",
       "      <td>1.00</td>\n",
       "      <td>3.0</td>\n",
       "      <td>2.5</td>\n",
       "      <td>54.0</td>\n",
       "      <td>1.0</td>\n",
       "    </tr>\n",
       "    <tr>\n",
       "      <th>2145925</th>\n",
       "      <td>Gordon-Moderate</td>\n",
       "      <td>2.50</td>\n",
       "      <td>3.0</td>\n",
       "      <td>2.5</td>\n",
       "      <td>250.0</td>\n",
       "      <td>50.0</td>\n",
       "    </tr>\n",
       "    <tr>\n",
       "      <th>2281779</th>\n",
       "      <td>TBT Signals</td>\n",
       "      <td>1.75</td>\n",
       "      <td>2.0</td>\n",
       "      <td>1.5</td>\n",
       "      <td>300.0</td>\n",
       "      <td>20.0</td>\n",
       "    </tr>\n",
       "    <tr>\n",
       "      <th>2292725</th>\n",
       "      <td>RSI7 &lt; 30 3m</td>\n",
       "      <td>1.90</td>\n",
       "      <td>2.0</td>\n",
       "      <td>1.5</td>\n",
       "      <td>150.0</td>\n",
       "      <td>97.0</td>\n",
       "    </tr>\n",
       "    <tr>\n",
       "      <th>2297369</th>\n",
       "      <td>Gordon-Moderate-TP1.5-SL8</td>\n",
       "      <td>1.50</td>\n",
       "      <td>3.0</td>\n",
       "      <td>2.0</td>\n",
       "      <td>200.0</td>\n",
       "      <td>7.0</td>\n",
       "    </tr>\n",
       "    <tr>\n",
       "      <th>2314379</th>\n",
       "      <td>RSI7 &lt; 30 3m BTC ETH BNB ACCUM</td>\n",
       "      <td>2.50</td>\n",
       "      <td>1.0</td>\n",
       "      <td>2.0</td>\n",
       "      <td>100.0</td>\n",
       "      <td>12.0</td>\n",
       "    </tr>\n",
       "    <tr>\n",
       "      <th>2313262</th>\n",
       "      <td>RSI7 &lt; 30 3m OTHER COINS</td>\n",
       "      <td>1.88</td>\n",
       "      <td>1.0</td>\n",
       "      <td>2.0</td>\n",
       "      <td>100.0</td>\n",
       "      <td>26.0</td>\n",
       "    </tr>\n",
       "    <tr>\n",
       "      <th>2314271</th>\n",
       "      <td>Gordon-Moderate BTC ETH BNB ACCUM</td>\n",
       "      <td>5.00</td>\n",
       "      <td>3.0</td>\n",
       "      <td>2.5</td>\n",
       "      <td>150.0</td>\n",
       "      <td>0.0</td>\n",
       "    </tr>\n",
       "  </tbody>\n",
       "</table>\n",
       "</div>"
      ],
      "text/plain": [
       "                                       bot    TP  SO Count  SO%  SO Vol  \\\n",
       "Bot ID                                                                    \n",
       "2145929                   Gordon-Agressive  1.00       3.0  2.5    54.0   \n",
       "2145925                    Gordon-Moderate  2.50       3.0  2.5   250.0   \n",
       "2281779                        TBT Signals  1.75       2.0  1.5   300.0   \n",
       "2292725                       RSI7 < 30 3m  1.90       2.0  1.5   150.0   \n",
       "2297369          Gordon-Moderate-TP1.5-SL8  1.50       3.0  2.0   200.0   \n",
       "2314379     RSI7 < 30 3m BTC ETH BNB ACCUM  2.50       1.0  2.0   100.0   \n",
       "2313262           RSI7 < 30 3m OTHER COINS  1.88       1.0  2.0   100.0   \n",
       "2314271  Gordon-Moderate BTC ETH BNB ACCUM  5.00       3.0  2.5   150.0   \n",
       "\n",
       "         Closed  \n",
       "Bot ID           \n",
       "2145929     1.0  \n",
       "2145925    50.0  \n",
       "2281779    20.0  \n",
       "2292725    97.0  \n",
       "2297369     7.0  \n",
       "2314379    12.0  \n",
       "2313262    26.0  \n",
       "2314271     0.0  "
      ]
     },
     "execution_count": 19,
     "metadata": {},
     "output_type": "execute_result"
    }
   ],
   "source": [
    "for bot_id in data[\"bot_id\"].unique():\n",
    "    bots.loc[bot_id, \"bot\"] = data[(data[\"bot_id\"] == bot_id)][\"bot\"].unique()\n",
    "    bots.loc[bot_id, \"TP\"] = data[(data[\"bot_id\"] == bot_id)][\"take_profit_condition\"].iloc[-1]\n",
    "    bots.loc[bot_id, \"SO Count\"] = data[(data[\"bot_id\"] == bot_id)][\"max_safety_orders_count\"].iloc[-1]\n",
    "    bots.loc[bot_id, \"SO%\"] = data[(data[\"bot_id\"] == bot_id)][\"safety_order_step_percentage\"].iloc[-1]\n",
    "    bots.loc[bot_id, \"SO Vol\"] = data[(data[\"bot_id\"] == bot_id)][\"safety_order_volume\"].iloc[-1]\n",
    "    bots.loc[bot_id, \"Closed\"] = data[(data[\"bot_id\"] == bot_id)][\"closed\"].sum()\n",
    "\n",
    "bots"
   ]
  },
  {
   "cell_type": "markdown",
   "metadata": {},
   "source": [
    "### Profit per day"
   ]
  },
  {
   "cell_type": "code",
   "execution_count": 20,
   "metadata": {},
   "outputs": [
    {
     "name": "stderr",
     "output_type": "stream",
     "text": [
      "<ipython-input-20-512d7177009a>:1: FutureWarning: Indexing with multiple keys (implicitly converted to a tuple of keys) will be deprecated, use a list instead.\n",
      "  data.groupby(\"close_date\")[\"closed\", \"win\", \"loss\", \"final_profit\"].sum()\n"
     ]
    },
    {
     "data": {
      "text/html": [
       "<div>\n",
       "<style scoped>\n",
       "    .dataframe tbody tr th:only-of-type {\n",
       "        vertical-align: middle;\n",
       "    }\n",
       "\n",
       "    .dataframe tbody tr th {\n",
       "        vertical-align: top;\n",
       "    }\n",
       "\n",
       "    .dataframe thead th {\n",
       "        text-align: right;\n",
       "    }\n",
       "</style>\n",
       "<table border=\"1\" class=\"dataframe\">\n",
       "  <thead>\n",
       "    <tr style=\"text-align: right;\">\n",
       "      <th></th>\n",
       "      <th>closed</th>\n",
       "      <th>win</th>\n",
       "      <th>loss</th>\n",
       "      <th>final_profit</th>\n",
       "    </tr>\n",
       "    <tr>\n",
       "      <th>close_date</th>\n",
       "      <th></th>\n",
       "      <th></th>\n",
       "      <th></th>\n",
       "      <th></th>\n",
       "    </tr>\n",
       "  </thead>\n",
       "  <tbody>\n",
       "    <tr>\n",
       "      <th>2021-01-01</th>\n",
       "      <td>3</td>\n",
       "      <td>31.682559</td>\n",
       "      <td>0.000000</td>\n",
       "      <td>31.682559</td>\n",
       "    </tr>\n",
       "    <tr>\n",
       "      <th>2021-01-02</th>\n",
       "      <td>3</td>\n",
       "      <td>17.927037</td>\n",
       "      <td>0.000000</td>\n",
       "      <td>17.927037</td>\n",
       "    </tr>\n",
       "    <tr>\n",
       "      <th>2021-01-03</th>\n",
       "      <td>10</td>\n",
       "      <td>58.711944</td>\n",
       "      <td>0.000000</td>\n",
       "      <td>58.711944</td>\n",
       "    </tr>\n",
       "    <tr>\n",
       "      <th>2021-01-04</th>\n",
       "      <td>31</td>\n",
       "      <td>110.896645</td>\n",
       "      <td>46.312724</td>\n",
       "      <td>64.583921</td>\n",
       "    </tr>\n",
       "    <tr>\n",
       "      <th>2021-01-05</th>\n",
       "      <td>49</td>\n",
       "      <td>98.619399</td>\n",
       "      <td>41.413390</td>\n",
       "      <td>57.206009</td>\n",
       "    </tr>\n",
       "    <tr>\n",
       "      <th>2021-01-06</th>\n",
       "      <td>64</td>\n",
       "      <td>202.052367</td>\n",
       "      <td>92.862697</td>\n",
       "      <td>109.189670</td>\n",
       "    </tr>\n",
       "    <tr>\n",
       "      <th>2021-01-07</th>\n",
       "      <td>41</td>\n",
       "      <td>222.877981</td>\n",
       "      <td>103.004428</td>\n",
       "      <td>119.873553</td>\n",
       "    </tr>\n",
       "    <tr>\n",
       "      <th>2021-01-08</th>\n",
       "      <td>12</td>\n",
       "      <td>157.257561</td>\n",
       "      <td>65.467761</td>\n",
       "      <td>91.789800</td>\n",
       "    </tr>\n",
       "  </tbody>\n",
       "</table>\n",
       "</div>"
      ],
      "text/plain": [
       "            closed         win        loss  final_profit\n",
       "close_date                                              \n",
       "2021-01-01       3   31.682559    0.000000     31.682559\n",
       "2021-01-02       3   17.927037    0.000000     17.927037\n",
       "2021-01-03      10   58.711944    0.000000     58.711944\n",
       "2021-01-04      31  110.896645   46.312724     64.583921\n",
       "2021-01-05      49   98.619399   41.413390     57.206009\n",
       "2021-01-06      64  202.052367   92.862697    109.189670\n",
       "2021-01-07      41  222.877981  103.004428    119.873553\n",
       "2021-01-08      12  157.257561   65.467761     91.789800"
      ]
     },
     "execution_count": 20,
     "metadata": {},
     "output_type": "execute_result"
    }
   ],
   "source": [
    "data.groupby(\"close_date\")[\"closed\", \"win\", \"loss\", \"final_profit\"].sum()"
   ]
  },
  {
   "cell_type": "markdown",
   "metadata": {},
   "source": [
    "### Bots per day"
   ]
  },
  {
   "cell_type": "code",
   "execution_count": 21,
   "metadata": {
    "scrolled": false
   },
   "outputs": [
    {
     "name": "stderr",
     "output_type": "stream",
     "text": [
      "<ipython-input-21-658523039dcd>:1: FutureWarning: Indexing with multiple keys (implicitly converted to a tuple of keys) will be deprecated, use a list instead.\n",
      "  data.groupby([\"close_date\", \"bot\"])[\"closed\", \"win\", \"loss\", \"final_profit\"].sum()\n"
     ]
    },
    {
     "data": {
      "text/html": [
       "<div>\n",
       "<style scoped>\n",
       "    .dataframe tbody tr th:only-of-type {\n",
       "        vertical-align: middle;\n",
       "    }\n",
       "\n",
       "    .dataframe tbody tr th {\n",
       "        vertical-align: top;\n",
       "    }\n",
       "\n",
       "    .dataframe thead th {\n",
       "        text-align: right;\n",
       "    }\n",
       "</style>\n",
       "<table border=\"1\" class=\"dataframe\">\n",
       "  <thead>\n",
       "    <tr style=\"text-align: right;\">\n",
       "      <th></th>\n",
       "      <th></th>\n",
       "      <th>closed</th>\n",
       "      <th>win</th>\n",
       "      <th>loss</th>\n",
       "      <th>final_profit</th>\n",
       "    </tr>\n",
       "    <tr>\n",
       "      <th>close_date</th>\n",
       "      <th>bot</th>\n",
       "      <th></th>\n",
       "      <th></th>\n",
       "      <th></th>\n",
       "      <th></th>\n",
       "    </tr>\n",
       "  </thead>\n",
       "  <tbody>\n",
       "    <tr>\n",
       "      <th rowspan=\"2\" valign=\"top\">2021-01-01</th>\n",
       "      <th>Gordon-Agressive</th>\n",
       "      <td>1</td>\n",
       "      <td>1.523833</td>\n",
       "      <td>0.000000</td>\n",
       "      <td>1.523833</td>\n",
       "    </tr>\n",
       "    <tr>\n",
       "      <th>Gordon-Moderate</th>\n",
       "      <td>2</td>\n",
       "      <td>30.158726</td>\n",
       "      <td>0.000000</td>\n",
       "      <td>30.158726</td>\n",
       "    </tr>\n",
       "    <tr>\n",
       "      <th>2021-01-02</th>\n",
       "      <th>Gordon-Moderate</th>\n",
       "      <td>3</td>\n",
       "      <td>17.927037</td>\n",
       "      <td>0.000000</td>\n",
       "      <td>17.927037</td>\n",
       "    </tr>\n",
       "    <tr>\n",
       "      <th rowspan=\"2\" valign=\"top\">2021-01-03</th>\n",
       "      <th>Gordon-Moderate</th>\n",
       "      <td>7</td>\n",
       "      <td>57.169089</td>\n",
       "      <td>0.000000</td>\n",
       "      <td>57.169089</td>\n",
       "    </tr>\n",
       "    <tr>\n",
       "      <th>TBT Signals</th>\n",
       "      <td>3</td>\n",
       "      <td>1.542855</td>\n",
       "      <td>0.000000</td>\n",
       "      <td>1.542855</td>\n",
       "    </tr>\n",
       "    <tr>\n",
       "      <th rowspan=\"3\" valign=\"top\">2021-01-04</th>\n",
       "      <th>Gordon-Moderate</th>\n",
       "      <td>11</td>\n",
       "      <td>66.506665</td>\n",
       "      <td>0.000000</td>\n",
       "      <td>66.506665</td>\n",
       "    </tr>\n",
       "    <tr>\n",
       "      <th>RSI7 &lt; 30 3m</th>\n",
       "      <td>15</td>\n",
       "      <td>22.906771</td>\n",
       "      <td>46.312724</td>\n",
       "      <td>-23.405954</td>\n",
       "    </tr>\n",
       "    <tr>\n",
       "      <th>TBT Signals</th>\n",
       "      <td>5</td>\n",
       "      <td>21.483209</td>\n",
       "      <td>0.000000</td>\n",
       "      <td>21.483209</td>\n",
       "    </tr>\n",
       "    <tr>\n",
       "      <th rowspan=\"4\" valign=\"top\">2021-01-05</th>\n",
       "      <th>Gordon-Moderate</th>\n",
       "      <td>4</td>\n",
       "      <td>10.586909</td>\n",
       "      <td>0.000000</td>\n",
       "      <td>10.586909</td>\n",
       "    </tr>\n",
       "    <tr>\n",
       "      <th>Gordon-Moderate-TP1.5-SL8</th>\n",
       "      <td>4</td>\n",
       "      <td>8.845729</td>\n",
       "      <td>0.000000</td>\n",
       "      <td>8.845729</td>\n",
       "    </tr>\n",
       "    <tr>\n",
       "      <th>RSI7 &lt; 30 3m</th>\n",
       "      <td>37</td>\n",
       "      <td>59.311698</td>\n",
       "      <td>41.413390</td>\n",
       "      <td>17.898308</td>\n",
       "    </tr>\n",
       "    <tr>\n",
       "      <th>TBT Signals</th>\n",
       "      <td>4</td>\n",
       "      <td>19.875063</td>\n",
       "      <td>0.000000</td>\n",
       "      <td>19.875063</td>\n",
       "    </tr>\n",
       "    <tr>\n",
       "      <th rowspan=\"6\" valign=\"top\">2021-01-06</th>\n",
       "      <th>Gordon-Moderate</th>\n",
       "      <td>8</td>\n",
       "      <td>57.108417</td>\n",
       "      <td>0.000000</td>\n",
       "      <td>57.108417</td>\n",
       "    </tr>\n",
       "    <tr>\n",
       "      <th>Gordon-Moderate-TP1.5-SL8</th>\n",
       "      <td>3</td>\n",
       "      <td>13.803262</td>\n",
       "      <td>0.000000</td>\n",
       "      <td>13.803262</td>\n",
       "    </tr>\n",
       "    <tr>\n",
       "      <th>RSI7 &lt; 30 3m</th>\n",
       "      <td>34</td>\n",
       "      <td>75.020748</td>\n",
       "      <td>49.310108</td>\n",
       "      <td>25.710640</td>\n",
       "    </tr>\n",
       "    <tr>\n",
       "      <th>RSI7 &lt; 30 3m BTC ETH BNB ACCUM</th>\n",
       "      <td>2</td>\n",
       "      <td>9.640317</td>\n",
       "      <td>0.000000</td>\n",
       "      <td>9.640317</td>\n",
       "    </tr>\n",
       "    <tr>\n",
       "      <th>RSI7 &lt; 30 3m OTHER COINS</th>\n",
       "      <td>13</td>\n",
       "      <td>23.633000</td>\n",
       "      <td>43.552589</td>\n",
       "      <td>-19.919589</td>\n",
       "    </tr>\n",
       "    <tr>\n",
       "      <th>TBT Signals</th>\n",
       "      <td>4</td>\n",
       "      <td>22.846624</td>\n",
       "      <td>0.000000</td>\n",
       "      <td>22.846624</td>\n",
       "    </tr>\n",
       "    <tr>\n",
       "      <th rowspan=\"5\" valign=\"top\">2021-01-07</th>\n",
       "      <th>Gordon-Moderate</th>\n",
       "      <td>7</td>\n",
       "      <td>85.381653</td>\n",
       "      <td>0.000000</td>\n",
       "      <td>85.381653</td>\n",
       "    </tr>\n",
       "    <tr>\n",
       "      <th>RSI7 &lt; 30 3m</th>\n",
       "      <td>10</td>\n",
       "      <td>56.709957</td>\n",
       "      <td>65.858899</td>\n",
       "      <td>-9.148942</td>\n",
       "    </tr>\n",
       "    <tr>\n",
       "      <th>RSI7 &lt; 30 3m BTC ETH BNB ACCUM</th>\n",
       "      <td>10</td>\n",
       "      <td>48.357121</td>\n",
       "      <td>0.000000</td>\n",
       "      <td>48.357121</td>\n",
       "    </tr>\n",
       "    <tr>\n",
       "      <th>RSI7 &lt; 30 3m OTHER COINS</th>\n",
       "      <td>13</td>\n",
       "      <td>27.041863</td>\n",
       "      <td>37.145529</td>\n",
       "      <td>-10.103666</td>\n",
       "    </tr>\n",
       "    <tr>\n",
       "      <th>TBT Signals</th>\n",
       "      <td>1</td>\n",
       "      <td>5.387387</td>\n",
       "      <td>0.000000</td>\n",
       "      <td>5.387387</td>\n",
       "    </tr>\n",
       "    <tr>\n",
       "      <th rowspan=\"4\" valign=\"top\">2021-01-08</th>\n",
       "      <th>Gordon-Moderate</th>\n",
       "      <td>8</td>\n",
       "      <td>109.608828</td>\n",
       "      <td>65.467761</td>\n",
       "      <td>44.141067</td>\n",
       "    </tr>\n",
       "    <tr>\n",
       "      <th>Gordon-Moderate BTC ETH BNB ACCUM</th>\n",
       "      <td>0</td>\n",
       "      <td>0.000000</td>\n",
       "      <td>0.000000</td>\n",
       "      <td>0.000000</td>\n",
       "    </tr>\n",
       "    <tr>\n",
       "      <th>RSI7 &lt; 30 3m</th>\n",
       "      <td>1</td>\n",
       "      <td>2.391921</td>\n",
       "      <td>0.000000</td>\n",
       "      <td>2.391921</td>\n",
       "    </tr>\n",
       "    <tr>\n",
       "      <th>TBT Signals</th>\n",
       "      <td>3</td>\n",
       "      <td>45.256811</td>\n",
       "      <td>0.000000</td>\n",
       "      <td>45.256811</td>\n",
       "    </tr>\n",
       "  </tbody>\n",
       "</table>\n",
       "</div>"
      ],
      "text/plain": [
       "                                              closed         win       loss  \\\n",
       "close_date bot                                                                \n",
       "2021-01-01 Gordon-Agressive                        1    1.523833   0.000000   \n",
       "           Gordon-Moderate                         2   30.158726   0.000000   \n",
       "2021-01-02 Gordon-Moderate                         3   17.927037   0.000000   \n",
       "2021-01-03 Gordon-Moderate                         7   57.169089   0.000000   \n",
       "           TBT Signals                             3    1.542855   0.000000   \n",
       "2021-01-04 Gordon-Moderate                        11   66.506665   0.000000   \n",
       "           RSI7 < 30 3m                           15   22.906771  46.312724   \n",
       "           TBT Signals                             5   21.483209   0.000000   \n",
       "2021-01-05 Gordon-Moderate                         4   10.586909   0.000000   \n",
       "           Gordon-Moderate-TP1.5-SL8               4    8.845729   0.000000   \n",
       "           RSI7 < 30 3m                           37   59.311698  41.413390   \n",
       "           TBT Signals                             4   19.875063   0.000000   \n",
       "2021-01-06 Gordon-Moderate                         8   57.108417   0.000000   \n",
       "           Gordon-Moderate-TP1.5-SL8               3   13.803262   0.000000   \n",
       "           RSI7 < 30 3m                           34   75.020748  49.310108   \n",
       "           RSI7 < 30 3m BTC ETH BNB ACCUM          2    9.640317   0.000000   \n",
       "           RSI7 < 30 3m OTHER COINS               13   23.633000  43.552589   \n",
       "           TBT Signals                             4   22.846624   0.000000   \n",
       "2021-01-07 Gordon-Moderate                         7   85.381653   0.000000   \n",
       "           RSI7 < 30 3m                           10   56.709957  65.858899   \n",
       "           RSI7 < 30 3m BTC ETH BNB ACCUM         10   48.357121   0.000000   \n",
       "           RSI7 < 30 3m OTHER COINS               13   27.041863  37.145529   \n",
       "           TBT Signals                             1    5.387387   0.000000   \n",
       "2021-01-08 Gordon-Moderate                         8  109.608828  65.467761   \n",
       "           Gordon-Moderate BTC ETH BNB ACCUM       0    0.000000   0.000000   \n",
       "           RSI7 < 30 3m                            1    2.391921   0.000000   \n",
       "           TBT Signals                             3   45.256811   0.000000   \n",
       "\n",
       "                                              final_profit  \n",
       "close_date bot                                              \n",
       "2021-01-01 Gordon-Agressive                       1.523833  \n",
       "           Gordon-Moderate                       30.158726  \n",
       "2021-01-02 Gordon-Moderate                       17.927037  \n",
       "2021-01-03 Gordon-Moderate                       57.169089  \n",
       "           TBT Signals                            1.542855  \n",
       "2021-01-04 Gordon-Moderate                       66.506665  \n",
       "           RSI7 < 30 3m                         -23.405954  \n",
       "           TBT Signals                           21.483209  \n",
       "2021-01-05 Gordon-Moderate                       10.586909  \n",
       "           Gordon-Moderate-TP1.5-SL8              8.845729  \n",
       "           RSI7 < 30 3m                          17.898308  \n",
       "           TBT Signals                           19.875063  \n",
       "2021-01-06 Gordon-Moderate                       57.108417  \n",
       "           Gordon-Moderate-TP1.5-SL8             13.803262  \n",
       "           RSI7 < 30 3m                          25.710640  \n",
       "           RSI7 < 30 3m BTC ETH BNB ACCUM         9.640317  \n",
       "           RSI7 < 30 3m OTHER COINS             -19.919589  \n",
       "           TBT Signals                           22.846624  \n",
       "2021-01-07 Gordon-Moderate                       85.381653  \n",
       "           RSI7 < 30 3m                          -9.148942  \n",
       "           RSI7 < 30 3m BTC ETH BNB ACCUM        48.357121  \n",
       "           RSI7 < 30 3m OTHER COINS             -10.103666  \n",
       "           TBT Signals                            5.387387  \n",
       "2021-01-08 Gordon-Moderate                       44.141067  \n",
       "           Gordon-Moderate BTC ETH BNB ACCUM      0.000000  \n",
       "           RSI7 < 30 3m                           2.391921  \n",
       "           TBT Signals                           45.256811  "
      ]
     },
     "execution_count": 21,
     "metadata": {},
     "output_type": "execute_result"
    }
   ],
   "source": [
    "data.groupby([\"close_date\", \"bot\"])[\"closed\", \"win\", \"loss\", \"final_profit\"].sum()"
   ]
  },
  {
   "cell_type": "markdown",
   "metadata": {},
   "source": [
    "# Pairs"
   ]
  },
  {
   "cell_type": "code",
   "execution_count": 24,
   "metadata": {
    "scrolled": false
   },
   "outputs": [
    {
     "data": {
      "text/plain": [
       "Text(0, 0.5, '$$$')"
      ]
     },
     "execution_count": 24,
     "metadata": {},
     "output_type": "execute_result"
    },
    {
     "data": {
      "image/png": "[encoded data removed]",
      "text/plain": [
       "<Figure size 1296x432 with 1 Axes>"
      ]
     },
     "metadata": {
      "needs_background": "light"
     },
     "output_type": "display_data"
    }
   ],
   "source": [
    "ax = data.groupby(\"pair\")[\"final_profit\"].sum().plot(kind=\"bar\", \n",
    "                                                     figsize=(18,6),\n",
    "                                                     grid=True)\n",
    "ax.set_xlabel(\"\")\n",
    "ax.set_ylabel(\"$$$\")"
   ]
  },
  {
   "cell_type": "code",
   "execution_count": 37,
   "metadata": {},
   "outputs": [
    {
     "name": "stderr",
     "output_type": "stream",
     "text": [
      "<ipython-input-37-f75f70744aa8>:1: FutureWarning: Indexing with multiple keys (implicitly converted to a tuple of keys) will be deprecated, use a list instead.\n",
      "  data[data[\"close_date\"] == \"2021-01-08\"].groupby(\"bot\")[\"closed\", \"win\", \"loss\", \"final_profit\"].sum()\n"
     ]
    },
    {
     "data": {
      "text/html": [
       "<div>\n",
       "<style scoped>\n",
       "    .dataframe tbody tr th:only-of-type {\n",
       "        vertical-align: middle;\n",
       "    }\n",
       "\n",
       "    .dataframe tbody tr th {\n",
       "        vertical-align: top;\n",
       "    }\n",
       "\n",
       "    .dataframe thead th {\n",
       "        text-align: right;\n",
       "    }\n",
       "</style>\n",
       "<table border=\"1\" class=\"dataframe\">\n",
       "  <thead>\n",
       "    <tr style=\"text-align: right;\">\n",
       "      <th></th>\n",
       "      <th>closed</th>\n",
       "      <th>win</th>\n",
       "      <th>loss</th>\n",
       "      <th>final_profit</th>\n",
       "    </tr>\n",
       "    <tr>\n",
       "      <th>bot</th>\n",
       "      <th></th>\n",
       "      <th></th>\n",
       "      <th></th>\n",
       "      <th></th>\n",
       "    </tr>\n",
       "  </thead>\n",
       "  <tbody>\n",
       "    <tr>\n",
       "      <th>Gordon-Moderate</th>\n",
       "      <td>8</td>\n",
       "      <td>109.608828</td>\n",
       "      <td>65.467761</td>\n",
       "      <td>44.141067</td>\n",
       "    </tr>\n",
       "    <tr>\n",
       "      <th>Gordon-Moderate BTC ETH BNB ACCUM</th>\n",
       "      <td>0</td>\n",
       "      <td>0.000000</td>\n",
       "      <td>0.000000</td>\n",
       "      <td>0.000000</td>\n",
       "    </tr>\n",
       "    <tr>\n",
       "      <th>RSI7 &lt; 30 3m</th>\n",
       "      <td>1</td>\n",
       "      <td>2.391921</td>\n",
       "      <td>0.000000</td>\n",
       "      <td>2.391921</td>\n",
       "    </tr>\n",
       "    <tr>\n",
       "      <th>TBT Signals</th>\n",
       "      <td>3</td>\n",
       "      <td>45.256811</td>\n",
       "      <td>0.000000</td>\n",
       "      <td>45.256811</td>\n",
       "    </tr>\n",
       "  </tbody>\n",
       "</table>\n",
       "</div>"
      ],
      "text/plain": [
       "                                   closed         win       loss  final_profit\n",
       "bot                                                                           \n",
       "Gordon-Moderate                         8  109.608828  65.467761     44.141067\n",
       "Gordon-Moderate BTC ETH BNB ACCUM       0    0.000000   0.000000      0.000000\n",
       "RSI7 < 30 3m                            1    2.391921   0.000000      2.391921\n",
       "TBT Signals                             3   45.256811   0.000000     45.256811"
      ]
     },
     "execution_count": 37,
     "metadata": {},
     "output_type": "execute_result"
    }
   ],
   "source": [
    "data[data[\"close_date\"] == \"2021-01-08\"].groupby(\"bot\")[\"closed\", \"win\", \"loss\", \"final_profit\"].sum()"
   ]
  },
  {
   "cell_type": "code",
   "execution_count": 33,
   "metadata": {},
   "outputs": [
    {
     "data": {
      "text/html": [
       "<div>\n",
       "<style scoped>\n",
       "    .dataframe tbody tr th:only-of-type {\n",
       "        vertical-align: middle;\n",
       "    }\n",
       "\n",
       "    .dataframe tbody tr th {\n",
       "        vertical-align: top;\n",
       "    }\n",
       "\n",
       "    .dataframe thead th {\n",
       "        text-align: right;\n",
       "    }\n",
       "</style>\n",
       "<table border=\"1\" class=\"dataframe\">\n",
       "  <thead>\n",
       "    <tr style=\"text-align: right;\">\n",
       "      <th></th>\n",
       "      <th>close_date</th>\n",
       "      <th>bot</th>\n",
       "      <th>final_profit</th>\n",
       "      <th>loss</th>\n",
       "      <th>win</th>\n",
       "      <th>used_safety_orders</th>\n",
       "      <th>pair</th>\n",
       "      <th>take_profit_condition</th>\n",
       "      <th>base_order_volume</th>\n",
       "      <th>safety_order_volume</th>\n",
       "    </tr>\n",
       "    <tr>\n",
       "      <th>deal_id</th>\n",
       "      <th></th>\n",
       "      <th></th>\n",
       "      <th></th>\n",
       "      <th></th>\n",
       "      <th></th>\n",
       "      <th></th>\n",
       "      <th></th>\n",
       "      <th></th>\n",
       "      <th></th>\n",
       "      <th></th>\n",
       "    </tr>\n",
       "  </thead>\n",
       "  <tbody>\n",
       "    <tr>\n",
       "      <th>252448807</th>\n",
       "      <td>2021-01-05</td>\n",
       "      <td>RSI7 &lt; 30 3m</td>\n",
       "      <td>0.0</td>\n",
       "      <td>0.0</td>\n",
       "      <td>0.0</td>\n",
       "      <td>1</td>\n",
       "      <td>USDT_DOGE</td>\n",
       "      <td>1.00</td>\n",
       "      <td>100.0</td>\n",
       "      <td>100.0</td>\n",
       "    </tr>\n",
       "    <tr>\n",
       "      <th>254878516</th>\n",
       "      <td>2021-01-07</td>\n",
       "      <td>RSI7 &lt; 30 3m OTHER COINS</td>\n",
       "      <td>0.0</td>\n",
       "      <td>0.0</td>\n",
       "      <td>0.0</td>\n",
       "      <td>1</td>\n",
       "      <td>USDT_THETA</td>\n",
       "      <td>1.88</td>\n",
       "      <td>100.0</td>\n",
       "      <td>100.0</td>\n",
       "    </tr>\n",
       "    <tr>\n",
       "      <th>256224449</th>\n",
       "      <td>2021-01-08</td>\n",
       "      <td>Gordon-Moderate BTC ETH BNB ACCUM</td>\n",
       "      <td>0.0</td>\n",
       "      <td>0.0</td>\n",
       "      <td>0.0</td>\n",
       "      <td>0</td>\n",
       "      <td>USDT_ETH</td>\n",
       "      <td>5.00</td>\n",
       "      <td>150.0</td>\n",
       "      <td>150.0</td>\n",
       "    </tr>\n",
       "    <tr>\n",
       "      <th>256234304</th>\n",
       "      <td>2021-01-08</td>\n",
       "      <td>TBT Signals</td>\n",
       "      <td>0.0</td>\n",
       "      <td>0.0</td>\n",
       "      <td>0.0</td>\n",
       "      <td>0</td>\n",
       "      <td>USDT_ADA</td>\n",
       "      <td>1.75</td>\n",
       "      <td>300.0</td>\n",
       "      <td>300.0</td>\n",
       "    </tr>\n",
       "    <tr>\n",
       "      <th>256231124</th>\n",
       "      <td>2021-01-08</td>\n",
       "      <td>TBT Signals</td>\n",
       "      <td>0.0</td>\n",
       "      <td>0.0</td>\n",
       "      <td>0.0</td>\n",
       "      <td>0</td>\n",
       "      <td>USDT_DOT</td>\n",
       "      <td>1.75</td>\n",
       "      <td>300.0</td>\n",
       "      <td>300.0</td>\n",
       "    </tr>\n",
       "    <tr>\n",
       "      <th>256230187</th>\n",
       "      <td>2021-01-08</td>\n",
       "      <td>TBT Signals</td>\n",
       "      <td>0.0</td>\n",
       "      <td>0.0</td>\n",
       "      <td>0.0</td>\n",
       "      <td>0</td>\n",
       "      <td>USDT_XLM</td>\n",
       "      <td>1.75</td>\n",
       "      <td>300.0</td>\n",
       "      <td>300.0</td>\n",
       "    </tr>\n",
       "    <tr>\n",
       "      <th>256226736</th>\n",
       "      <td>2021-01-08</td>\n",
       "      <td>TBT Signals</td>\n",
       "      <td>0.0</td>\n",
       "      <td>0.0</td>\n",
       "      <td>0.0</td>\n",
       "      <td>0</td>\n",
       "      <td>USDT_XTZ</td>\n",
       "      <td>1.75</td>\n",
       "      <td>300.0</td>\n",
       "      <td>300.0</td>\n",
       "    </tr>\n",
       "  </tbody>\n",
       "</table>\n",
       "</div>"
      ],
      "text/plain": [
       "           close_date                                bot  final_profit  loss  \\\n",
       "deal_id                                                                        \n",
       "252448807  2021-01-05                       RSI7 < 30 3m           0.0   0.0   \n",
       "254878516  2021-01-07           RSI7 < 30 3m OTHER COINS           0.0   0.0   \n",
       "256224449  2021-01-08  Gordon-Moderate BTC ETH BNB ACCUM           0.0   0.0   \n",
       "256234304  2021-01-08                        TBT Signals           0.0   0.0   \n",
       "256231124  2021-01-08                        TBT Signals           0.0   0.0   \n",
       "256230187  2021-01-08                        TBT Signals           0.0   0.0   \n",
       "256226736  2021-01-08                        TBT Signals           0.0   0.0   \n",
       "\n",
       "           win  used_safety_orders        pair  take_profit_condition  \\\n",
       "deal_id                                                                 \n",
       "252448807  0.0                   1   USDT_DOGE                   1.00   \n",
       "254878516  0.0                   1  USDT_THETA                   1.88   \n",
       "256224449  0.0                   0    USDT_ETH                   5.00   \n",
       "256234304  0.0                   0    USDT_ADA                   1.75   \n",
       "256231124  0.0                   0    USDT_DOT                   1.75   \n",
       "256230187  0.0                   0    USDT_XLM                   1.75   \n",
       "256226736  0.0                   0    USDT_XTZ                   1.75   \n",
       "\n",
       "           base_order_volume  safety_order_volume  \n",
       "deal_id                                            \n",
       "252448807              100.0                100.0  \n",
       "254878516              100.0                100.0  \n",
       "256224449              150.0                150.0  \n",
       "256234304              300.0                300.0  \n",
       "256231124              300.0                300.0  \n",
       "256230187              300.0                300.0  \n",
       "256226736              300.0                300.0  "
      ]
     },
     "execution_count": 33,
     "metadata": {},
     "output_type": "execute_result"
    }
   ],
   "source": [
    "data[data[\"status\"] == \"failed\"][those"
   ]
  },
  {
   "cell_type": "code",
   "execution_count": 36,
   "metadata": {},
   "outputs": [
    {
     "data": {
      "text/plain": [
       "20"
      ]
     },
     "execution_count": 36,
     "metadata": {},
     "output_type": "execute_result"
    }
   ],
   "source": [
    "data[data[\"bot\"] == \"TBT Signals\"][\"closed\"].sum()"
   ]
  },
  {
   "cell_type": "code",
   "execution_count": null,
   "metadata": {},
   "outputs": [],
   "source": []
  }
 ],
 "metadata": {
  "kernelspec": {
   "display_name": "Python 3",
   "language": "python",
   "name": "python3"
  },
  "language_info": {
   "codemirror_mode": {
    "name": "ipython",
    "version": 3
   },
   "file_extension": ".py",
   "mimetype": "text/x-python",
   "name": "python",
   "nbconvert_exporter": "python",
   "pygments_lexer": "ipython3",
   "version": "3.8.5"
  }
 },
 "nbformat": 4,
 "nbformat_minor": 4
}
