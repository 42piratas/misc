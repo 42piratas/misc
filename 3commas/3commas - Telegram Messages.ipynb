{
 "cells": [
  {
   "cell_type": "markdown",
   "metadata": {},
   "source": [
    "### ✳️ Required User Inputs"
   ]
  },
  {
   "cell_type": "code",
   "execution_count": 1,
   "metadata": {},
   "outputs": [],
   "source": [
    "# Source\n",
    "source_filename = \"3commas-telegram-2021-03-09.json\"\n",
    "\n",
    "# Removes messages with the following substrings\n",
    "remove = [\"Start command received\", \"Stop command received\", \n",
    "          \"Bot is turned on\", \"Bot is turned off\"]"
   ]
  },
  {
   "cell_type": "markdown",
   "metadata": {},
   "source": [
    "### Setting up the stage!"
   ]
  },
  {
   "cell_type": "code",
   "execution_count": 2,
   "metadata": {},
   "outputs": [],
   "source": [
    "import json\n",
    "import pandas as pd\n",
    "import numpy as np\n",
    "import datetime as dt"
   ]
  },
  {
   "cell_type": "code",
   "execution_count": 3,
   "metadata": {},
   "outputs": [],
   "source": [
    "# Grabbing the data\n",
    "folder = \"commas3/data/\"\n",
    "source = folder + source_filename\n",
    "data = pd.read_json(source)\n",
    "\n",
    "# Display full column width\n",
    "pd.set_option('display.max_colwidth', None)"
   ]
  },
  {
   "cell_type": "code",
   "execution_count": 4,
   "metadata": {},
   "outputs": [],
   "source": [
    "def SliceData(df, timeframe):\n",
    "    today = dt.datetime.today().date()\n",
    "    start_date = today - dt.timedelta(timeframe)\n",
    "    df_period = df.loc[start_date:today]\n",
    "    return df_period"
   ]
  },
  {
   "cell_type": "markdown",
   "metadata": {},
   "source": [
    "### Clean Up"
   ]
  },
  {
   "cell_type": "code",
   "execution_count": 5,
   "metadata": {
    "scrolled": true
   },
   "outputs": [],
   "source": [
    "data = data[\"messages\"]\n",
    "data = pd.json_normalize(data)\n",
    "data[\"date\"] = pd.to_datetime(data['date'])\n",
    "data.set_index(\"date\", inplace=True)\n",
    "data = data[data[\"from_id\"] == 4882035576]\n",
    "data.drop(columns=[\"id\", \"type\", \"from\", \"from_id\"], inplace=True)\n",
    "data.rename(columns={\"text\": \"message\"}, inplace=True)\n",
    "data = data[7:]\n",
    "data[\"message\"] = data[\"message\"].apply(lambda row: \\\n",
    "                                     \"\".join([x if isinstance(x, str) else x[\"text\"] for x in row]))                                      \n",
    "data = data[~data['message'].str.contains(\"|\".join(remove))]\n"
   ]
  },
  {
   "cell_type": "markdown",
   "metadata": {},
   "source": [
    "### Add Features"
   ]
  },
  {
   "cell_type": "code",
   "execution_count": 6,
   "metadata": {},
   "outputs": [],
   "source": [
    "data[\"bot\"] = data['message'].str.split(\":\")\n",
    "data[\"bot\"] = data[\"bot\"].str[0]\n",
    "data[\"bot\"] = data[\"bot\"].apply(lambda x: x.split(\"(\")[0] if \"(\" in x else x)\n",
    "\n",
    "mask = data[\"message\"].str.contains(\"Error\")\n",
    "data.loc[mask, \"status\"] = \"error\"\n",
    "\n",
    "mask = data[\"status\"] == \"error\"\n",
    "data.loc[mask, \"alert\"] = data.loc[mask, \"message\"].apply(lambda x: x.split(\"Error\")[1])\n",
    "data.loc[mask, \"alert\"] = data.loc[mask, \"alert\"].apply(lambda x: x.split(\":\")[1])\n",
    "data.loc[mask, \"alert\"] = data.loc[mask, \"alert\"].apply(lambda x: \"IP banned\" if \"banned\" in x \\\n",
    "                                                    else(x.split(\".\")[0] if \".\" in x \\\n",
    "                                                         else (x.split(\"#\")[0] if \"#\" in x \\\n",
    "                                                               else x)))\n",
    "data[\"alert\"] = data[\"alert\"].str.strip()\n",
    "\n",
    "mask = data[\"message\"].str.contains(\"Conditions not met\")\n",
    "data.loc[mask, \"status\"] = \"settings\"\n",
    "data.loc[mask, \"alert\"] = \"conditions\"\n",
    "\n",
    "mask = data[\"message\"].str.contains(\"Maximum active deals reached\")\n",
    "data.loc[mask, \"status\"] = \"settings\"\n",
    "data.loc[mask, \"alert\"] = \"max deals\""
   ]
  },
  {
   "cell_type": "markdown",
   "metadata": {},
   "source": [
    "### Save clean data to CSV File"
   ]
  },
  {
   "cell_type": "code",
   "execution_count": 7,
   "metadata": {},
   "outputs": [],
   "source": [
    "destination_filename = source_filename.split(\".\")[0] + \"_clean.csv\"\n",
    "destination = folder + destination_filename\n",
    "data.to_csv(destination, index = True) "
   ]
  },
  {
   "cell_type": "markdown",
   "metadata": {},
   "source": [
    "# Data Explorer"
   ]
  },
  {
   "cell_type": "code",
   "execution_count": 8,
   "metadata": {
    "scrolled": false
   },
   "outputs": [
    {
     "data": {
      "text/plain": [
       "date        alert                   \n",
       "2021-03-08  max deals                    63\n",
       "            conditions                   59\n",
       "            Insufficient funds           28\n",
       "2021-03-07  max deals                    70\n",
       "            conditions                   37\n",
       "2021-03-06  max deals                    68\n",
       "            conditions                   27\n",
       "            Market is closed/offline      1\n",
       "2021-03-05  max deals                    23\n",
       "            conditions                   53\n",
       "            Insufficient funds          204\n",
       "2021-03-04  max deals                    84\n",
       "            conditions                   37\n",
       "            Insufficient funds          140\n",
       "2021-03-03  max deals                    98\n",
       "            conditions                   52\n",
       "            Insufficient funds            1\n",
       "2021-03-02  max deals                    24\n",
       "            conditions                   44\n",
       "Name: alert, dtype: int64"
      ]
     },
     "execution_count": 8,
     "metadata": {},
     "output_type": "execute_result"
    }
   ],
   "source": [
    "df = SliceData(data, 7)\n",
    "df.groupby([pd.Grouper(freq='D'), \"alert\"])[\"alert\"].count().sort_index(ascending=False)"
   ]
  },
  {
   "cell_type": "code",
   "execution_count": 9,
   "metadata": {},
   "outputs": [
    {
     "data": {
      "text/plain": [
       "date        bot                                         alert                   \n",
       "2021-03-08  TBT USDT P-B D-21-01-06-16-02               max deals                    1\n",
       "            TBT BTC P-Q D-21-01-10-18-00                Insufficient funds           4\n",
       "            QFL-PT BTC P-Q D-21-02-28-14-57             Insufficient funds           8\n",
       "            QFL-DT BTC P-Q D-21-02-08-20-38             Insufficient funds          16\n",
       "            HirnVIP BTC P-Q D-21-01-29-17-36            max deals                   15\n",
       "            Blockparty USDT P-Q TP25 D-21-01-30-20-12   max deals                   47\n",
       "2021-03-07  HirnVIP BTC P-Q D-21-01-29-17-36            max deals                   18\n",
       "            Blockparty USDT P-Q TP25 D-21-01-30-20-12   max deals                   52\n",
       "2021-03-06  HirnVIP BTC P-Q D-21-01-29-17-36            max deals                   15\n",
       "            Blockparty USDT P-Q TP25 D-21-01-30-20-12   Market is closed/offline     1\n",
       "            Blockparty USDT P-Q TP25 D-21-01-30-20-12   max deals                   53\n",
       "2021-03-05  QFL-PT USDT P-Q D-21-02-28-15-02            Insufficient funds          68\n",
       "            QFL-DT USDT P-Q D-20-12-20-21-43            Insufficient funds          84\n",
       "            QFL-DT USDT P-B D-21-01-06-15-50            Insufficient funds           4\n",
       "            HirnVIP BTC P-Q D-21-01-29-17-36            max deals                   10\n",
       "            Blockparty USDT P-Q TP25 D-21-01-30-20-12   Insufficient funds          48\n",
       "            Blockparty USDT P-Q TP25 D-21-01-30-20-12   max deals                   13\n",
       "2021-03-04  TBT USDT P-Q D-21-01-02-16-47               Insufficient funds           8\n",
       "            TBT USDT P-B D-21-01-06-16-02               max deals                    6\n",
       "            QFL-PT USDT P-Q D-21-02-28-15-02            Insufficient funds          40\n",
       "            QFL-OR USDT P-B D-21-02-08-20-47            Insufficient funds           4\n",
       "            QFL-DT USDT P-Q D-20-12-20-21-43            Insufficient funds          64\n",
       "            QFL-DT USDT P-B D-21-01-06-15-50            Insufficient funds           8\n",
       "            HirnVIP BTC P-Q D-21-01-29-17-36            max deals                   12\n",
       "            Blockparty USDT P-Q TP25 D-21-01-30-20-12   Insufficient funds          16\n",
       "            Blockparty USDT P-Q TP25 D-21-01-30-20-12   max deals                   66\n",
       "Name: alert, dtype: int64"
      ]
     },
     "execution_count": 9,
     "metadata": {},
     "output_type": "execute_result"
    }
   ],
   "source": [
    "df = SliceData(data, 5)\n",
    "df = df[df[\"alert\"] != \"conditions\"]\n",
    "df.groupby([pd.Grouper(freq='D'), \"bot\", \"alert\"])[\"alert\"].count().sort_index(ascending=False)"
   ]
  },
  {
   "cell_type": "code",
   "execution_count": 10,
   "metadata": {},
   "outputs": [],
   "source": [
    "# mask = data[\"message\"].str.contains(\"|\".join(settings_alerts))"
   ]
  }
 ],
 "metadata": {
  "kernelspec": {
   "display_name": "Python 3",
   "language": "python",
   "name": "python3"
  },
  "language_info": {
   "codemirror_mode": {
    "name": "ipython",
    "version": 3
   },
   "file_extension": ".py",
   "mimetype": "text/x-python",
   "name": "python",
   "nbconvert_exporter": "python",
   "pygments_lexer": "ipython3",
   "version": "3.8.5"
  }
 },
 "nbformat": 4,
 "nbformat_minor": 4
}
