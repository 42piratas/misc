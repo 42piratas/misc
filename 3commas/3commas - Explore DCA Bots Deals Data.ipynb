{
 "cells": [
  {
   "cell_type": "markdown",
   "metadata": {},
   "source": [
    "### Setting up the stage!"
   ]
  },
  {
   "cell_type": "code",
   "execution_count": 1,
   "metadata": {},
   "outputs": [],
   "source": [
    "import os\n",
    "import pandas as pd\n",
    "import datetime as dt"
   ]
  },
  {
   "cell_type": "markdown",
   "metadata": {},
   "source": [
    "### User Input Required!"
   ]
  },
  {
   "cell_type": "code",
   "execution_count": 2,
   "metadata": {},
   "outputs": [],
   "source": [
    "# Add the csv file name and location here!\n",
    "# Get the file under DCA Bot > My Deals > Deals History > Export\n",
    "source = \"data/3commas-dca-deals-210101.csv\""
   ]
  },
  {
   "cell_type": "markdown",
   "metadata": {},
   "source": [
    "### Other variables"
   ]
  },
  {
   "cell_type": "code",
   "execution_count": 3,
   "metadata": {},
   "outputs": [],
   "source": [
    "# Creates empty dataframe\n",
    "summary = pd.DataFrame()\n",
    "summary.index.name = \"Bot ID\"\n",
    "\n",
    "#TODO REVIEW ALL STATUSES\n",
    "trade_status_closed = [\"completed\", \"stop_loss_finished\"]\n",
    "trade_status_wins = [\"completed\"]\n",
    "trade_status_losses = [\"stop_loss_finished\"]\n",
    "trade_status_active = [\"bought\"] "
   ]
  },
  {
   "cell_type": "markdown",
   "metadata": {},
   "source": [
    "### Grabbing the data"
   ]
  },
  {
   "cell_type": "code",
   "execution_count": 4,
   "metadata": {},
   "outputs": [],
   "source": [
    "data = pd.read_csv(source,\n",
    "                   sep=\";\",\n",
    "                   index_col=\"deal_id\",\n",
    "                   header=0,\n",
    "                   parse_dates=['closed_at'])"
   ]
  },
  {
   "cell_type": "markdown",
   "metadata": {},
   "source": [
    "### Raise an error if there's more than one market"
   ]
  },
  {
   "cell_type": "code",
   "execution_count": 5,
   "metadata": {},
   "outputs": [],
   "source": [
    "# Check if the base asset is the same in all pairs \n",
    "base_pair = data[\"pair\"].str.split(\"_\").str[0].unique()\n",
    "if len(base_pair) == 1:\n",
    "    base_pair = base_pair[0]\n",
    "else:\n",
    "    raise(\"ERROR! 🙀 More than one market, not prepared for that!\")"
   ]
  },
  {
   "cell_type": "markdown",
   "metadata": {},
   "source": [
    "### Add features"
   ]
  },
  {
   "cell_type": "code",
   "execution_count": 6,
   "metadata": {},
   "outputs": [],
   "source": [
    "# Add feature '% Profit\" (bought volume x final profit)\n",
    "data.loc[data[\"status\"].isin(trade_status_closed), \"% Profit\"] = (data[\"final_profit\"] * 100) / data[\"bought_volume\"]"
   ]
  },
  {
   "cell_type": "markdown",
   "metadata": {},
   "source": [
    "### Generate Report"
   ]
  },
  {
   "cell_type": "code",
   "execution_count": 7,
   "metadata": {
    "scrolled": false
   },
   "outputs": [
    {
     "data": {
      "text/html": [
       "<div>\n",
       "<style scoped>\n",
       "    .dataframe tbody tr th:only-of-type {\n",
       "        vertical-align: middle;\n",
       "    }\n",
       "\n",
       "    .dataframe tbody tr th {\n",
       "        vertical-align: top;\n",
       "    }\n",
       "\n",
       "    .dataframe thead th {\n",
       "        text-align: right;\n",
       "    }\n",
       "</style>\n",
       "<table border=\"1\" class=\"dataframe\">\n",
       "  <thead>\n",
       "    <tr style=\"text-align: right;\">\n",
       "      <th></th>\n",
       "      <th>Bot Name</th>\n",
       "      <th>% AVG Profit</th>\n",
       "      <th>Profit (USDT)</th>\n",
       "      <th>% Win</th>\n",
       "      <th>% Loss</th>\n",
       "      <th>Closed Trades</th>\n",
       "      <th>AVG Trade Duration</th>\n",
       "      <th>AVG SO/Trade</th>\n",
       "    </tr>\n",
       "    <tr>\n",
       "      <th>Bot ID</th>\n",
       "      <th></th>\n",
       "      <th></th>\n",
       "      <th></th>\n",
       "      <th></th>\n",
       "      <th></th>\n",
       "      <th></th>\n",
       "      <th></th>\n",
       "      <th></th>\n",
       "    </tr>\n",
       "  </thead>\n",
       "  <tbody>\n",
       "    <tr>\n",
       "      <th>2145925</th>\n",
       "      <td>Gordon-Moderate</td>\n",
       "      <td>2.39</td>\n",
       "      <td>152.629137</td>\n",
       "      <td>100.00</td>\n",
       "      <td>0.00</td>\n",
       "      <td>39.0</td>\n",
       "      <td>03:34:25</td>\n",
       "      <td>0.769231</td>\n",
       "    </tr>\n",
       "    <tr>\n",
       "      <th>2145929</th>\n",
       "      <td>Gordon-Agressive</td>\n",
       "      <td>0.30</td>\n",
       "      <td>-30.753176</td>\n",
       "      <td>97.44</td>\n",
       "      <td>2.56</td>\n",
       "      <td>39.0</td>\n",
       "      <td>05:39:31</td>\n",
       "      <td>0.600000</td>\n",
       "    </tr>\n",
       "    <tr>\n",
       "      <th>2145913</th>\n",
       "      <td>Gordon-Conservative</td>\n",
       "      <td>-0.41</td>\n",
       "      <td>-60.023527</td>\n",
       "      <td>89.47</td>\n",
       "      <td>10.53</td>\n",
       "      <td>19.0</td>\n",
       "      <td>04:13:40</td>\n",
       "      <td>0.842105</td>\n",
       "    </tr>\n",
       "    <tr>\n",
       "      <th>2147462</th>\n",
       "      <td>Gordon-LEV-Conservative</td>\n",
       "      <td>1.35</td>\n",
       "      <td>29.542041</td>\n",
       "      <td>97.22</td>\n",
       "      <td>2.78</td>\n",
       "      <td>36.0</td>\n",
       "      <td>02:09:48</td>\n",
       "      <td>1.135135</td>\n",
       "    </tr>\n",
       "    <tr>\n",
       "      <th>2149831</th>\n",
       "      <td>Gordon-LEV-Agressive</td>\n",
       "      <td>-0.42</td>\n",
       "      <td>-60.457766</td>\n",
       "      <td>88.89</td>\n",
       "      <td>11.11</td>\n",
       "      <td>18.0</td>\n",
       "      <td>02:27:02</td>\n",
       "      <td>0.888889</td>\n",
       "    </tr>\n",
       "    <tr>\n",
       "      <th>2149682</th>\n",
       "      <td>Gordon-LEV-Moderate</td>\n",
       "      <td>-1.30</td>\n",
       "      <td>-154.772038</td>\n",
       "      <td>86.67</td>\n",
       "      <td>13.33</td>\n",
       "      <td>45.0</td>\n",
       "      <td>01:57:09</td>\n",
       "      <td>1.422222</td>\n",
       "    </tr>\n",
       "  </tbody>\n",
       "</table>\n",
       "</div>"
      ],
      "text/plain": [
       "                        Bot Name  % AVG Profit  Profit (USDT)   % Win  % Loss  \\\n",
       "Bot ID                                                                          \n",
       "2145925          Gordon-Moderate          2.39     152.629137  100.00    0.00   \n",
       "2145929         Gordon-Agressive          0.30     -30.753176   97.44    2.56   \n",
       "2145913      Gordon-Conservative         -0.41     -60.023527   89.47   10.53   \n",
       "2147462  Gordon-LEV-Conservative          1.35      29.542041   97.22    2.78   \n",
       "2149831     Gordon-LEV-Agressive         -0.42     -60.457766   88.89   11.11   \n",
       "2149682      Gordon-LEV-Moderate         -1.30    -154.772038   86.67   13.33   \n",
       "\n",
       "         Closed Trades AVG Trade Duration  AVG SO/Trade  \n",
       "Bot ID                                                   \n",
       "2145925           39.0           03:34:25      0.769231  \n",
       "2145929           39.0           05:39:31      0.600000  \n",
       "2145913           19.0           04:13:40      0.842105  \n",
       "2147462           36.0           02:09:48      1.135135  \n",
       "2149831           18.0           02:27:02      0.888889  \n",
       "2149682           45.0           01:57:09      1.422222  "
      ]
     },
     "execution_count": 7,
     "metadata": {},
     "output_type": "execute_result"
    }
   ],
   "source": [
    "for bot_id in data[\"bot_id\"].unique():\n",
    "    trades_total = len(data[(data[\"bot_id\"] == bot_id)])\n",
    "    trades_closed = len(data[(data[\"bot_id\"] == bot_id) & (data[\"status\"].isin(trade_status_closed))])\n",
    "    trades_active = len(data[(data[\"bot_id\"] == bot_id) & (data[\"status\"].isin(trade_status_active))])\n",
    "    trades_win = len(data[(data[\"bot_id\"] == bot_id) & (data[\"status\"].isin(trade_status_wins))])*100 / trades_closed\n",
    "    trades_win = round(trades_win, 2)\n",
    "    trades_win_avg = data[(data[\"bot_id\"] == bot_id) & (data[\"status\"].isin(trade_status_wins))][\"final_profit\"].mean()\n",
    "    trades_losses = len(data[(data[\"bot_id\"] == bot_id) & (data[\"status\"].isin(trade_status_losses))])*100 / trades_closed\n",
    "    trades_losses = round(trades_losses, 2)\n",
    "    trades_duration_avg = data[data[\"bot_id\"] == bot_id][\"duration\"].mean()\n",
    "    trades_duration_avg = pd.to_datetime(trades_duration_avg, unit=\"s\")\n",
    "    trades_so_avg = data[data[\"bot_id\"] == bot_id][\"used_safety_orders\"].mean()\n",
    "    \n",
    "\n",
    "    # Add data to Summary dataframe\n",
    "    summary.loc[bot_id, \"Bot Name\"] = data[data[\"bot_id\"] == bot_id][\"bot\"].unique()\n",
    "    summary.loc[bot_id, \"% AVG Profit\"] = round(data[(data[\"bot_id\"] == bot_id)][\"% Profit\"].mean(),2)\n",
    "    profit_column_name = f\"Profit ({base_pair})\"\n",
    "    summary.loc[bot_id, profit_column_name] = data[(data[\"bot_id\"] == bot_id) & (~data[\"status\"].isin(trade_status_active))][\"final_profit\"].sum()\n",
    "    summary.loc[bot_id, \"% Win\"] = trades_win\n",
    "    summary.loc[bot_id, \"% Loss\"] = trades_losses\n",
    "    # summary.loc[bot_id, \"Active Trades\"] = trades_active\n",
    "    summary.loc[bot_id, \"Closed Trades\"] = trades_closed\n",
    "    summary.loc[bot_id, \"AVG Trade Duration\"] = trades_duration_avg\n",
    "    summary.loc[bot_id, \"AVG SO/Trade\"] = trades_so_avg\n",
    "    # TODO: AVG DEALS PER DAY/TIME THE BOT HAS BEEN ACTIVE // REQUIRES INFO IN THE SOURCE DATA\n",
    "    \n",
    "summary[\"AVG Trade Duration\"] = summary[\"AVG Trade Duration\"].dt.strftime(\"%H:%M:%S\")\n",
    "summary"
   ]
  }
 ],
 "metadata": {
  "kernelspec": {
   "display_name": "Python 3",
   "language": "python",
   "name": "python3"
  },
  "language_info": {
   "codemirror_mode": {
    "name": "ipython",
    "version": 3
   },
   "file_extension": ".py",
   "mimetype": "text/x-python",
   "name": "python",
   "nbconvert_exporter": "python",
   "pygments_lexer": "ipython3",
   "version": "3.8.5"
  }
 },
 "nbformat": 4,
 "nbformat_minor": 4
}
