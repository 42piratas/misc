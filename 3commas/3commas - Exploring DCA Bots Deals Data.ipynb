{
 "cells": [
  {
   "cell_type": "markdown",
   "metadata": {},
   "source": [
    "### Setting up the stage!"
   ]
  },
  {
   "cell_type": "code",
   "execution_count": 1,
   "metadata": {},
   "outputs": [],
   "source": [
    "import os\n",
    "import pandas as pd\n",
    "import numpy as np\n",
    "import matplotlib.pyplot as plt\n",
    "import datetime as dt\n",
    "from matplotlib import pyplot as plt"
   ]
  },
  {
   "cell_type": "markdown",
   "metadata": {},
   "source": [
    "### User Input Required!"
   ]
  },
  {
   "cell_type": "code",
   "execution_count": 2,
   "metadata": {},
   "outputs": [],
   "source": [
    "# Add the csv file name and location here!\n",
    "# Get the file under DCA Bot > My Deals > Deals History > Export\n",
    "source = \"data/3commas-dca-deals-2021-01-01-2021-01-07.csv\""
   ]
  },
  {
   "cell_type": "markdown",
   "metadata": {},
   "source": [
    "### Other variables"
   ]
  },
  {
   "cell_type": "code",
   "execution_count": 3,
   "metadata": {},
   "outputs": [],
   "source": [
    "# Creates empty dataframe\n",
    "summary = pd.DataFrame()\n",
    "summary.index.name = \"Bot ID\"\n",
    "bots = pd.DataFrame()\n",
    "bots.index.name = \"Bot ID\" \n",
    "\n",
    "#TODO REVIEW ALL STATUSES\n",
    "trade_status_closed = [\"completed\", \"stop_loss_finished\"]\n",
    "trade_status_wins = [\"completed\"]\n",
    "trade_status_losses = [\"stop_loss_finished\"]\n",
    "trade_status_active = [\"bought\"] "
   ]
  },
  {
   "cell_type": "code",
   "execution_count": 4,
   "metadata": {},
   "outputs": [],
   "source": [
    "# those_columns = [\"close_date\", \"bot\", \"final_profit\", \"loss\", \"win\", \"used_safety_orders\", \"pair\"]\n",
    "# bot_settings = [\"take_profit_condition\", \"base_order_volume\", \"safety_order_volume\"]\n",
    "\n",
    "result_columns = [\"win\", \"loss\", \"final_profit\"]\n",
    "those_columns = [\"close_date\", \"bot\", \"final_profit\", \"loss\", \"win\", \"used_safety_orders\", \n",
    "                 \"pair\", \"take_profit_condition\", \"base_order_volume\", \"safety_order_volume\"]"
   ]
  },
  {
   "cell_type": "markdown",
   "metadata": {},
   "source": [
    "### Grabbing the data"
   ]
  },
  {
   "cell_type": "code",
   "execution_count": 5,
   "metadata": {},
   "outputs": [],
   "source": [
    "data = pd.read_csv(source,\n",
    "                   sep=\";\",\n",
    "                   index_col=\"deal_id\",\n",
    "                   header=0,\n",
    "                   parse_dates=['closed_at'])"
   ]
  },
  {
   "cell_type": "code",
   "execution_count": 6,
   "metadata": {},
   "outputs": [],
   "source": [
    "# Sorting per close_date\n",
    "data = data.sort_values(by='close_date',ascending=True)"
   ]
  },
  {
   "cell_type": "markdown",
   "metadata": {},
   "source": [
    "### TO-DO!"
   ]
  },
  {
   "cell_type": "markdown",
   "metadata": {},
   "source": [
    "**IMPORTANT!** Must make a distinction between profit in base and quote! 🙀 "
   ]
  },
  {
   "cell_type": "markdown",
   "metadata": {},
   "source": [
    "### Raise an error if there's more than one base"
   ]
  },
  {
   "cell_type": "code",
   "execution_count": 7,
   "metadata": {},
   "outputs": [],
   "source": [
    "# Check if the base asset is the same in all pairs \n",
    "base_pair = data[\"pair\"].str.split(\"_\").str[0].unique()\n",
    "if len(base_pair) == 1:\n",
    "    base_pair = base_pair[0]\n",
    "else:\n",
    "    raise(\"ERROR! 🙀 More than one base, not prepared for that!\")"
   ]
  },
  {
   "cell_type": "markdown",
   "metadata": {},
   "source": [
    "### Filtering the data"
   ]
  },
  {
   "cell_type": "code",
   "execution_count": 8,
   "metadata": {},
   "outputs": [],
   "source": [
    "# Data range\n",
    "# Comment all to get the entire data\n",
    "\n",
    "# Slicing per date range\n",
    "# data = data[(data[\"close_date\"] >= \"2021-01-01\") &\n",
    "#            (data[\"close_date\"] <= \"2021-01-04\")]\n",
    "\n",
    "# Only after/before/equal a certain date\n",
    "# data = data[(data[\"close_date\"] == \"2021-01-07\")]"
   ]
  },
  {
   "cell_type": "code",
   "execution_count": 9,
   "metadata": {},
   "outputs": [],
   "source": [
    "# ONLY this(these) bot(s)!\n",
    "# data = data[data[\"bot\"] == \"RSI7 < 30 3m\"]"
   ]
  },
  {
   "cell_type": "code",
   "execution_count": 10,
   "metadata": {},
   "outputs": [],
   "source": [
    "# REMOVE these bots!\n",
    "# bots_remove = [\"Gordon-LEV-Conservative\", \"Gordon-LEV-Moderate\", \n",
    "#                \"Gordon-Conservative\", \"Gordon-Agressive\"]\n",
    "# data = data[~data[\"bot\"].isin(bots_remove)]"
   ]
  },
  {
   "cell_type": "markdown",
   "metadata": {},
   "source": [
    "### Replace NANs from \"final_profit\" feature withzeros"
   ]
  },
  {
   "cell_type": "code",
   "execution_count": 11,
   "metadata": {},
   "outputs": [],
   "source": [
    "data['final_profit'] = data['final_profit'].fillna(0)"
   ]
  },
  {
   "cell_type": "markdown",
   "metadata": {},
   "source": [
    "### Add features"
   ]
  },
  {
   "cell_type": "code",
   "execution_count": 12,
   "metadata": {},
   "outputs": [],
   "source": [
    "# Add \"win\" feature with the sum of positive profits of the day\n",
    "data[\"win\"] = np.where(data[\"final_profit\"] >0, data[\"final_profit\"], 0)\n",
    "# Add 'loss' column with the sum of negative profits of the day as a ABS number\n",
    "data[\"loss\"] = np.where(data[\"final_profit\"] <0, data[\"final_profit\"], 0)\n",
    "data[\"loss\"] = data[\"loss\"].abs()"
   ]
  },
  {
   "cell_type": "code",
   "execution_count": 13,
   "metadata": {
    "scrolled": true
   },
   "outputs": [],
   "source": [
    "# Add \"cum_profit\" feature\n",
    "# data[\"cum_profit\"] = data[\"final_profit\"].cumsum()"
   ]
  },
  {
   "cell_type": "markdown",
   "metadata": {},
   "source": [
    "### Generate Report"
   ]
  },
  {
   "cell_type": "markdown",
   "metadata": {},
   "source": [
    "**IMPORTANT!** Whenever we have mean() with rows with zero value, math might be wrong!"
   ]
  },
  {
   "cell_type": "code",
   "execution_count": 14,
   "metadata": {
    "scrolled": true
   },
   "outputs": [
    {
     "data": {
      "text/html": [
       "<div>\n",
       "<style scoped>\n",
       "    .dataframe tbody tr th:only-of-type {\n",
       "        vertical-align: middle;\n",
       "    }\n",
       "\n",
       "    .dataframe tbody tr th {\n",
       "        vertical-align: top;\n",
       "    }\n",
       "\n",
       "    .dataframe thead th {\n",
       "        text-align: right;\n",
       "    }\n",
       "</style>\n",
       "<table border=\"1\" class=\"dataframe\">\n",
       "  <thead>\n",
       "    <tr style=\"text-align: right;\">\n",
       "      <th></th>\n",
       "      <th>Bot Name</th>\n",
       "      <th>AVG Profit (%)</th>\n",
       "      <th>Profit (USDT)</th>\n",
       "      <th>Win (%)</th>\n",
       "      <th>Loss (%)</th>\n",
       "      <th>Closed Trades</th>\n",
       "      <th>AVG Trade Duration</th>\n",
       "      <th>Max SO Set</th>\n",
       "      <th>Max SO Used (%)</th>\n",
       "      <th>AVG SO/Trade</th>\n",
       "    </tr>\n",
       "    <tr>\n",
       "      <th>Bot ID</th>\n",
       "      <th></th>\n",
       "      <th></th>\n",
       "      <th></th>\n",
       "      <th></th>\n",
       "      <th></th>\n",
       "      <th></th>\n",
       "      <th></th>\n",
       "      <th></th>\n",
       "      <th></th>\n",
       "      <th></th>\n",
       "    </tr>\n",
       "  </thead>\n",
       "  <tbody>\n",
       "    <tr>\n",
       "      <th>2145925</th>\n",
       "      <td>Gordon-Moderate</td>\n",
       "      <td>2.41</td>\n",
       "      <td>252.820021</td>\n",
       "      <td>100.00</td>\n",
       "      <td>0.00</td>\n",
       "      <td>36</td>\n",
       "      <td>03:30:07</td>\n",
       "      <td>3.0</td>\n",
       "      <td>0.0</td>\n",
       "      <td>0.666667</td>\n",
       "    </tr>\n",
       "    <tr>\n",
       "      <th>2281779</th>\n",
       "      <td>TBT Signals</td>\n",
       "      <td>1.60</td>\n",
       "      <td>71.135138</td>\n",
       "      <td>100.00</td>\n",
       "      <td>0.00</td>\n",
       "      <td>17</td>\n",
       "      <td>03:46:44</td>\n",
       "      <td>2.0</td>\n",
       "      <td>0.0</td>\n",
       "      <td>0.764706</td>\n",
       "    </tr>\n",
       "    <tr>\n",
       "      <th>2292725</th>\n",
       "      <td>RSI7 &lt; 30 3m</td>\n",
       "      <td>0.74</td>\n",
       "      <td>27.988115</td>\n",
       "      <td>88.89</td>\n",
       "      <td>11.11</td>\n",
       "      <td>90</td>\n",
       "      <td>01:14:46</td>\n",
       "      <td>2.0</td>\n",
       "      <td>0.0</td>\n",
       "      <td>0.670330</td>\n",
       "    </tr>\n",
       "    <tr>\n",
       "      <th>2297369</th>\n",
       "      <td>Gordon-Moderate-TP1.5-SL8</td>\n",
       "      <td>1.71</td>\n",
       "      <td>22.648991</td>\n",
       "      <td>100.00</td>\n",
       "      <td>0.00</td>\n",
       "      <td>7</td>\n",
       "      <td>01:07:59</td>\n",
       "      <td>3.0</td>\n",
       "      <td>0.0</td>\n",
       "      <td>0.142857</td>\n",
       "    </tr>\n",
       "    <tr>\n",
       "      <th>2313262</th>\n",
       "      <td>RSI7 &lt; 30 3m OTHER COINS</td>\n",
       "      <td>-0.04</td>\n",
       "      <td>-26.426922</td>\n",
       "      <td>68.42</td>\n",
       "      <td>31.58</td>\n",
       "      <td>19</td>\n",
       "      <td>01:49:35</td>\n",
       "      <td>1.0</td>\n",
       "      <td>0.0</td>\n",
       "      <td>0.421053</td>\n",
       "    </tr>\n",
       "    <tr>\n",
       "      <th>2314379</th>\n",
       "      <td>RSI7 &lt; 30 3m BTC ETH BNB ACCUM</td>\n",
       "      <td>2.53</td>\n",
       "      <td>22.520468</td>\n",
       "      <td>100.00</td>\n",
       "      <td>0.00</td>\n",
       "      <td>7</td>\n",
       "      <td>02:06:12</td>\n",
       "      <td>1.0</td>\n",
       "      <td>0.0</td>\n",
       "      <td>0.285714</td>\n",
       "    </tr>\n",
       "  </tbody>\n",
       "</table>\n",
       "</div>"
      ],
      "text/plain": [
       "                               Bot Name  AVG Profit (%)  Profit (USDT)  \\\n",
       "Bot ID                                                                   \n",
       "2145925                 Gordon-Moderate            2.41     252.820021   \n",
       "2281779                     TBT Signals            1.60      71.135138   \n",
       "2292725                    RSI7 < 30 3m            0.74      27.988115   \n",
       "2297369       Gordon-Moderate-TP1.5-SL8            1.71      22.648991   \n",
       "2313262        RSI7 < 30 3m OTHER COINS           -0.04     -26.426922   \n",
       "2314379  RSI7 < 30 3m BTC ETH BNB ACCUM            2.53      22.520468   \n",
       "\n",
       "         Win (%)  Loss (%)  Closed Trades AVG Trade Duration  Max SO Set  \\\n",
       "Bot ID                                                                     \n",
       "2145925   100.00      0.00             36           03:30:07         3.0   \n",
       "2281779   100.00      0.00             17           03:46:44         2.0   \n",
       "2292725    88.89     11.11             90           01:14:46         2.0   \n",
       "2297369   100.00      0.00              7           01:07:59         3.0   \n",
       "2313262    68.42     31.58             19           01:49:35         1.0   \n",
       "2314379   100.00      0.00              7           02:06:12         1.0   \n",
       "\n",
       "         Max SO Used (%)  AVG SO/Trade  \n",
       "Bot ID                                  \n",
       "2145925              0.0      0.666667  \n",
       "2281779              0.0      0.764706  \n",
       "2292725              0.0      0.670330  \n",
       "2297369              0.0      0.142857  \n",
       "2313262              0.0      0.421053  \n",
       "2314379              0.0      0.285714  "
      ]
     },
     "execution_count": 14,
     "metadata": {},
     "output_type": "execute_result"
    }
   ],
   "source": [
    "for bot_id in data[\"bot_id\"].unique():\n",
    "    trades_total = len(data[(data[\"bot_id\"] == bot_id)])\n",
    "    trades_closed = len(data[(data[\"bot_id\"] == bot_id) & (data[\"status\"].isin(trade_status_closed))])\n",
    "    trades_win = len(data[(data[\"bot_id\"] == bot_id) & (data[\"status\"].isin(trade_status_wins))])*100 / trades_closed\n",
    "    trades_win = round(trades_win, 2)\n",
    "    trades_losses = len(data[(data[\"bot_id\"] == bot_id) & (data[\"status\"].isin(trade_status_losses))])*100 / trades_closed\n",
    "    trades_losses = round(trades_losses, 2)\n",
    "    trades_duration_avg = data[data[\"bot_id\"] == bot_id][\"duration\"].mean()\n",
    "    trades_duration_avg = pd.to_datetime(trades_duration_avg, unit=\"s\")\n",
    "    trades_so_avg = data[data[\"bot_id\"] == bot_id][\"used_safety_orders\"].mean()\n",
    "    trades_so_max = data[data[\"bot_id\"] == bot_id][\"max_safety_orders_count\"].iloc[0] \n",
    "    #TODO: NOT WORKING!\n",
    "    trades_so_max_avg = len(data[(data[\"bot\"] == bot_id) & \n",
    "                                 (data[\"used_safety_orders\"] == data[\"max_safety_orders_count\"].max())])\n",
    "    trades_so_max_avg = (trades_so_max_avg *100)/trades_closed\n",
    "    \n",
    "    # Add data to Summary dataframe\n",
    "    summary.loc[bot_id, \"Bot Name\"] = data[data[\"bot_id\"] == bot_id][\"bot\"].unique()\n",
    "    summary.loc[bot_id, \"AVG Profit (%)\"] = round(data[(data[\"bot_id\"] == bot_id)][\"profit_percentage_from_total_volume\"].mean(),2)\n",
    "    profit_column_name = f\"Profit ({base_pair})\"\n",
    "    summary.loc[bot_id, profit_column_name] = data[(data[\"bot_id\"] == bot_id) & (~data[\"status\"].isin(trade_status_active))][\"final_profit\"].sum()\n",
    "    summary.loc[bot_id, \"Win (%)\"] = trades_win\n",
    "    summary.loc[bot_id, \"Loss (%)\"] = trades_losses\n",
    "    summary.loc[bot_id, \"Closed Trades\"] = trades_closed\n",
    "    summary.loc[bot_id, \"AVG Trade Duration\"] = trades_duration_avg\n",
    "    summary.loc[bot_id, \"Max SO Set\"] = trades_so_max\n",
    "    #TODO: NOT WORKING!\n",
    "    summary.loc[bot_id, \"Max SO Used (%)\"] = trades_so_max_avg\n",
    "    summary.loc[bot_id, \"AVG SO/Trade\"] = trades_so_avg\n",
    "    # TODO: AVG DEALS PER DAY/TIME THE BOT HAS BEEN ACTIVE // REQUIRES INFO IN THE SOURCE DATA\n",
    "\n",
    "summary[\"Closed Trades\"] = summary[\"Closed Trades\"].astype(int) \n",
    "summary[\"AVG Trade Duration\"] = summary[\"AVG Trade Duration\"].dt.strftime(\"%H:%M:%S\")\n",
    "summary"
   ]
  },
  {
   "cell_type": "code",
   "execution_count": 15,
   "metadata": {},
   "outputs": [
    {
     "name": "stdout",
     "output_type": "stream",
     "text": [
      "Total number of closed trades: 176\n",
      "Total profit: $370.68581163000005\n"
     ]
    }
   ],
   "source": [
    "closed_trades = len(data[data[\"status\"].isin(trade_status_closed)])\n",
    "total_profit = data[\"final_profit\"].sum()\n",
    "print(f\"Total number of closed trades: {closed_trades}\")\n",
    "print(f\"Total profit: ${total_profit}\")"
   ]
  },
  {
   "cell_type": "markdown",
   "metadata": {},
   "source": [
    "### Paintbrush"
   ]
  },
  {
   "cell_type": "code",
   "execution_count": 16,
   "metadata": {
    "scrolled": false
   },
   "outputs": [
    {
     "name": "stderr",
     "output_type": "stream",
     "text": [
      "/Library/Frameworks/Python.framework/Versions/3.8/lib/python3.8/site-packages/pandas/plotting/_matplotlib/core.py:1192: UserWarning: FixedFormatter should only be used together with FixedLocator\n",
      "  ax.set_xticklabels(xticklabels)\n"
     ]
    },
    {
     "data": {
      "text/plain": [
       "Text(0.5, 1.0, '3Commas DCA Bots')"
      ]
     },
     "execution_count": 16,
     "metadata": {},
     "output_type": "execute_result"
    },
    {
     "data": {
      "image/png": "[encoded data removed]",
      "text/plain": [
       "<Figure size 1008x432 with 1 Axes>"
      ]
     },
     "metadata": {
      "needs_background": "light"
     },
     "output_type": "display_data"
    }
   ],
   "source": [
    "ax = data.groupby(\"close_date\")[\"final_profit\"].sum().plot(marker=\"o\",\n",
    "                                                           stacked=False,\n",
    "                                                           color=\"blue\",\n",
    "                                                           alpha=0.5)\n",
    "data.groupby(\"close_date\")[\"final_profit\"].sum().cumsum().plot(ax=ax, \n",
    "                                                               marker='D',\n",
    "                                                               lw=2,\n",
    "                                                               color=\"purple\")\n",
    "data.groupby(\"close_date\")[[\"win\", \"loss\"]].sum().plot(ax=ax,\n",
    "                                                       kind=\"bar\",\n",
    "                                                       figsize=(14,6),\n",
    "                                                       grid=True,\n",
    "                                                       color=[\"gold\", \"r\"],\n",
    "                                                       rot=45,\n",
    "                                                       label='Day Profit')\n",
    "\n",
    "ax.legend([\"Day Profit\", \"Accum. Profit\", \"Earnings\", \"Losses\"])\n",
    "ax.set_xlabel(\"\")\n",
    "ax.set_ylabel(\"$$$\")\n",
    "plt.title(\"3Commas DCA Bots\")"
   ]
  },
  {
   "cell_type": "code",
   "execution_count": 17,
   "metadata": {
    "scrolled": false
   },
   "outputs": [
    {
     "data": {
      "text/plain": [
       "Text(0.5, 1.0, '3Commas DCA Bots')"
      ]
     },
     "execution_count": 17,
     "metadata": {},
     "output_type": "execute_result"
    },
    {
     "data": {
      "image/png": "[encoded data removed]",
      "text/plain": [
       "<Figure size 1008x432 with 1 Axes>"
      ]
     },
     "metadata": {
      "needs_background": "light"
     },
     "output_type": "display_data"
    }
   ],
   "source": [
    "ax = data.groupby(\"bot\")[result_columns].sum().plot(kind=\"bar\",\n",
    "                                                    figsize=(14,6),\n",
    "                                                    grid=True,\n",
    "                                                    color=[\"gold\", \"red\", \"blue\"],\n",
    "                                                    rot=90)\n",
    "\n",
    "ax.legend([\"Earnings\", \"Losses\", \"Profit\"])\n",
    "ax.set_xlabel(\"\")\n",
    "ax.set_ylabel(\"$$$\")\n",
    "plt.title(\"3Commas DCA Bots\")"
   ]
  },
  {
   "cell_type": "markdown",
   "metadata": {},
   "source": [
    "### Bots Settings (Most Recent Settings)"
   ]
  },
  {
   "cell_type": "code",
   "execution_count": 18,
   "metadata": {},
   "outputs": [
    {
     "data": {
      "text/html": [
       "<div>\n",
       "<style scoped>\n",
       "    .dataframe tbody tr th:only-of-type {\n",
       "        vertical-align: middle;\n",
       "    }\n",
       "\n",
       "    .dataframe tbody tr th {\n",
       "        vertical-align: top;\n",
       "    }\n",
       "\n",
       "    .dataframe thead th {\n",
       "        text-align: right;\n",
       "    }\n",
       "</style>\n",
       "<table border=\"1\" class=\"dataframe\">\n",
       "  <thead>\n",
       "    <tr style=\"text-align: right;\">\n",
       "      <th></th>\n",
       "      <th>bot</th>\n",
       "      <th>TP</th>\n",
       "      <th>SO Count</th>\n",
       "      <th>SO%</th>\n",
       "      <th>SO Vol</th>\n",
       "    </tr>\n",
       "    <tr>\n",
       "      <th>Bot ID</th>\n",
       "      <th></th>\n",
       "      <th></th>\n",
       "      <th></th>\n",
       "      <th></th>\n",
       "      <th></th>\n",
       "    </tr>\n",
       "  </thead>\n",
       "  <tbody>\n",
       "    <tr>\n",
       "      <th>2145925</th>\n",
       "      <td>Gordon-Moderate</td>\n",
       "      <td>2.50</td>\n",
       "      <td>3.0</td>\n",
       "      <td>2.5</td>\n",
       "      <td>200.0</td>\n",
       "    </tr>\n",
       "    <tr>\n",
       "      <th>2281779</th>\n",
       "      <td>TBT Signals</td>\n",
       "      <td>1.50</td>\n",
       "      <td>2.0</td>\n",
       "      <td>1.5</td>\n",
       "      <td>210.0</td>\n",
       "    </tr>\n",
       "    <tr>\n",
       "      <th>2292725</th>\n",
       "      <td>RSI7 &lt; 30 3m</td>\n",
       "      <td>1.90</td>\n",
       "      <td>2.0</td>\n",
       "      <td>1.5</td>\n",
       "      <td>150.0</td>\n",
       "    </tr>\n",
       "    <tr>\n",
       "      <th>2297369</th>\n",
       "      <td>Gordon-Moderate-TP1.5-SL8</td>\n",
       "      <td>1.50</td>\n",
       "      <td>3.0</td>\n",
       "      <td>2.0</td>\n",
       "      <td>200.0</td>\n",
       "    </tr>\n",
       "    <tr>\n",
       "      <th>2313262</th>\n",
       "      <td>RSI7 &lt; 30 3m OTHER COINS</td>\n",
       "      <td>1.88</td>\n",
       "      <td>1.0</td>\n",
       "      <td>2.0</td>\n",
       "      <td>100.0</td>\n",
       "    </tr>\n",
       "    <tr>\n",
       "      <th>2314379</th>\n",
       "      <td>RSI7 &lt; 30 3m BTC ETH BNB ACCUM</td>\n",
       "      <td>2.50</td>\n",
       "      <td>1.0</td>\n",
       "      <td>2.0</td>\n",
       "      <td>100.0</td>\n",
       "    </tr>\n",
       "  </tbody>\n",
       "</table>\n",
       "</div>"
      ],
      "text/plain": [
       "                                    bot    TP  SO Count  SO%  SO Vol\n",
       "Bot ID                                                              \n",
       "2145925                 Gordon-Moderate  2.50       3.0  2.5   200.0\n",
       "2281779                     TBT Signals  1.50       2.0  1.5   210.0\n",
       "2292725                    RSI7 < 30 3m  1.90       2.0  1.5   150.0\n",
       "2297369       Gordon-Moderate-TP1.5-SL8  1.50       3.0  2.0   200.0\n",
       "2313262        RSI7 < 30 3m OTHER COINS  1.88       1.0  2.0   100.0\n",
       "2314379  RSI7 < 30 3m BTC ETH BNB ACCUM  2.50       1.0  2.0   100.0"
      ]
     },
     "execution_count": 18,
     "metadata": {},
     "output_type": "execute_result"
    }
   ],
   "source": [
    "for bot_id in data[\"bot_id\"].unique():\n",
    "    bots.loc[bot_id, \"bot\"] = data[(data[\"bot_id\"] == bot_id)][\"bot\"].unique()\n",
    "    bots.loc[bot_id, \"TP\"] = data[(data[\"bot_id\"] == bot_id)][\"take_profit_condition\"].iloc[-1]\n",
    "    bots.loc[bot_id, \"SO Count\"] = data[(data[\"bot_id\"] == bot_id)][\"max_safety_orders_count\"].iloc[-1]\n",
    "    bots.loc[bot_id, \"SO%\"] = data[(data[\"bot_id\"] == bot_id)][\"safety_order_step_percentage\"].iloc[-1]\n",
    "    bots.loc[bot_id, \"SO Vol\"] = data[(data[\"bot_id\"] == bot_id)][\"safety_order_volume\"].iloc[-1]\n",
    "\n",
    "bots"
   ]
  },
  {
   "cell_type": "code",
   "execution_count": 19,
   "metadata": {
    "scrolled": false
   },
   "outputs": [
    {
     "data": {
      "text/plain": [
       "Text(0, 0.5, '$$$')"
      ]
     },
     "execution_count": 19,
     "metadata": {},
     "output_type": "execute_result"
    },
    {
     "data": {
      "image/png": "[encoded data removed]",
      "text/plain": [
       "<Figure size 1296x432 with 1 Axes>"
      ]
     },
     "metadata": {
      "needs_background": "light"
     },
     "output_type": "display_data"
    }
   ],
   "source": [
    "ax = data.groupby(\"pair\")[\"final_profit\"].sum().plot(kind=\"bar\", \n",
    "                                                     figsize=(18,6),\n",
    "                                                     grid=True)\n",
    "ax.set_xlabel(\"\")\n",
    "ax.set_ylabel(\"$$$\")"
   ]
  }
 ],
 "metadata": {
  "kernelspec": {
   "display_name": "Python 3",
   "language": "python",
   "name": "python3"
  },
  "language_info": {
   "codemirror_mode": {
    "name": "ipython",
    "version": 3
   },
   "file_extension": ".py",
   "mimetype": "text/x-python",
   "name": "python",
   "nbconvert_exporter": "python",
   "pygments_lexer": "ipython3",
   "version": "3.8.5"
  }
 },
 "nbformat": 4,
 "nbformat_minor": 4
}
